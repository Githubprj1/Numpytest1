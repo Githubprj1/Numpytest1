{
  "cells": [
    {
      "cell_type": "markdown",
      "metadata": {
        "id": "TyD3nS4JfW-q"
      },
      "source": [
        "# Numpy\n",
        "\n"
      ]
    },
    {
      "cell_type": "markdown",
      "metadata": {
        "id": "OTo44DOgfW-w"
      },
      "source": [
        "#### 1. Import the numpy package under the name `np` (★☆☆) \n",
        "(**hint**: import … as …)"
      ]
    },
    {
      "cell_type": "code",
      "execution_count": null,
      "metadata": {
        "collapsed": true,
        "id": "geRVDaJufW-z"
      },
      "outputs": [],
      "source": [
        "import numpy as np"
      ]
    },
    {
      "cell_type": "markdown",
      "metadata": {
        "id": "yuApQJ0nfW-1"
      },
      "source": [
        "#### 2. Print the numpy version and the configuration (★☆☆) \n",
        "(**hint**: np.\\_\\_version\\_\\_, np.show\\_config)"
      ]
    },
    {
      "cell_type": "code",
      "execution_count": null,
      "metadata": {
        "id": "yozL5aP_fW-4",
        "colab": {
          "base_uri": "https://localhost:8080/"
        },
        "outputId": "ea9d0338-ea67-4653-86de-ea983ba3b516"
      },
      "outputs": [
        {
          "output_type": "stream",
          "name": "stdout",
          "text": [
            "blas_mkl_info:\n",
            "  NOT AVAILABLE\n",
            "blis_info:\n",
            "  NOT AVAILABLE\n",
            "openblas_info:\n",
            "    libraries = ['openblas', 'openblas']\n",
            "    library_dirs = ['/usr/local/lib']\n",
            "    language = c\n",
            "    define_macros = [('HAVE_CBLAS', None)]\n",
            "    runtime_library_dirs = ['/usr/local/lib']\n",
            "blas_opt_info:\n",
            "    libraries = ['openblas', 'openblas']\n",
            "    library_dirs = ['/usr/local/lib']\n",
            "    language = c\n",
            "    define_macros = [('HAVE_CBLAS', None)]\n",
            "    runtime_library_dirs = ['/usr/local/lib']\n",
            "lapack_mkl_info:\n",
            "  NOT AVAILABLE\n",
            "openblas_lapack_info:\n",
            "    libraries = ['openblas', 'openblas']\n",
            "    library_dirs = ['/usr/local/lib']\n",
            "    language = c\n",
            "    define_macros = [('HAVE_CBLAS', None)]\n",
            "    runtime_library_dirs = ['/usr/local/lib']\n",
            "lapack_opt_info:\n",
            "    libraries = ['openblas', 'openblas']\n",
            "    library_dirs = ['/usr/local/lib']\n",
            "    language = c\n",
            "    define_macros = [('HAVE_CBLAS', None)]\n",
            "    runtime_library_dirs = ['/usr/local/lib']\n",
            "Supported SIMD extensions in this NumPy install:\n",
            "    baseline = SSE,SSE2,SSE3\n",
            "    found = SSSE3,SSE41,POPCNT,SSE42,AVX,F16C,FMA3,AVX2\n",
            "    not found = AVX512F,AVX512CD,AVX512_KNL,AVX512_KNM,AVX512_SKX,AVX512_CLX,AVX512_CNL,AVX512_ICL\n"
          ]
        }
      ],
      "source": [
        "np.__version__\n",
        "np.show_config()"
      ]
    },
    {
      "cell_type": "markdown",
      "metadata": {
        "id": "qUiKqsMgfW-5"
      },
      "source": [
        "#### 3. Create a null vector of size 10 (★☆☆) \n",
        "(**hint**: np.zeros)"
      ]
    },
    {
      "cell_type": "code",
      "execution_count": null,
      "metadata": {
        "id": "LbnaBKt4fW-7",
        "outputId": "c74b3b7b-ea8e-4816-826d-e19c38ebb70d",
        "colab": {
          "base_uri": "https://localhost:8080/"
        }
      },
      "outputs": [
        {
          "output_type": "execute_result",
          "data": {
            "text/plain": [
              "array([0., 0., 0., 0., 0., 0., 0., 0., 0., 0.])"
            ]
          },
          "metadata": {},
          "execution_count": 3
        }
      ],
      "source": [
        "x=np.zeros(10)\n",
        "x"
      ]
    },
    {
      "cell_type": "markdown",
      "metadata": {
        "id": "wCjJv85LfW-8"
      },
      "source": [
        "#### 4.  How to find the memory size of any array (★☆☆) \n",
        "(**hint**: size, itemsize)"
      ]
    },
    {
      "cell_type": "code",
      "execution_count": null,
      "metadata": {
        "id": "xzIglqpHfW--",
        "outputId": "ca5ef496-5bb5-4df4-ca21-cc646d32b6a5",
        "colab": {
          "base_uri": "https://localhost:8080/"
        }
      },
      "outputs": [
        {
          "output_type": "execute_result",
          "data": {
            "text/plain": [
              "8"
            ]
          },
          "metadata": {},
          "execution_count": 4
        }
      ],
      "source": [
        "x.size\n",
        "x.itemsize"
      ]
    },
    {
      "cell_type": "markdown",
      "metadata": {
        "id": "6_VGJVQwfW_A"
      },
      "source": [
        "#### 5.  How to get the documentation of the numpy add function from the command line? (★☆☆) \n",
        "(**hint**: np.info)"
      ]
    },
    {
      "cell_type": "code",
      "execution_count": null,
      "metadata": {
        "collapsed": true,
        "id": "79t5GVrJfW_B",
        "colab": {
          "base_uri": "https://localhost:8080/"
        },
        "outputId": "1e0373dc-5d32-4af3-bd43-8b470420a90f"
      },
      "outputs": [
        {
          "output_type": "stream",
          "name": "stdout",
          "text": [
            " info(object=None, maxwidth=76,\n",
            "      output=<ipykernel.iostream.OutStream object at 0x7fa77eba22d0>,\n",
            "      toplevel='numpy')\n",
            "\n",
            "Get help information for a function, class, or module.\n",
            "\n",
            "Parameters\n",
            "----------\n",
            "object : object or str, optional\n",
            "    Input object or name to get information about. If `object` is a\n",
            "    numpy object, its docstring is given. If it is a string, available\n",
            "    modules are searched for matching objects.  If None, information\n",
            "    about `info` itself is returned.\n",
            "maxwidth : int, optional\n",
            "    Printing width.\n",
            "output : file like object, optional\n",
            "    File like object that the output is written to, default is\n",
            "    ``stdout``.  The object has to be opened in 'w' or 'a' mode.\n",
            "toplevel : str, optional\n",
            "    Start search at this level.\n",
            "\n",
            "See Also\n",
            "--------\n",
            "source, lookfor\n",
            "\n",
            "Notes\n",
            "-----\n",
            "When used interactively with an object, ``np.info(obj)`` is equivalent\n",
            "to ``help(obj)`` on the Python prompt or ``obj?`` on the IPython\n",
            "prompt.\n",
            "\n",
            "Examples\n",
            "--------\n",
            ">>> np.info(np.polyval) # doctest: +SKIP\n",
            "   polyval(p, x)\n",
            "     Evaluate the polynomial p at x.\n",
            "     ...\n",
            "\n",
            "When using a string for `object` it is possible to get multiple results.\n",
            "\n",
            ">>> np.info('fft') # doctest: +SKIP\n",
            "     *** Found in numpy ***\n",
            "Core FFT routines\n",
            "...\n",
            "     *** Found in numpy.fft ***\n",
            " fft(a, n=None, axis=-1)\n",
            "...\n",
            "     *** Repeat reference found in numpy.fft.fftpack ***\n",
            "     *** Total of 3 references found. ***\n"
          ]
        }
      ],
      "source": [
        "np.info()"
      ]
    },
    {
      "cell_type": "markdown",
      "metadata": {
        "id": "X3YRFREYfW_C"
      },
      "source": [
        "#### 6.  Create a null vector of size 10 but the fifth value which is 1 (★☆☆) \n",
        "(**hint**: array\\[4\\])"
      ]
    },
    {
      "cell_type": "code",
      "execution_count": null,
      "metadata": {
        "id": "NAkWniFufW_D",
        "outputId": "b84c1cf8-faa6-4053-f892-c96fc98de3d9",
        "colab": {
          "base_uri": "https://localhost:8080/"
        }
      },
      "outputs": [
        {
          "output_type": "execute_result",
          "data": {
            "text/plain": [
              "array([0., 0., 0., 0., 1., 0., 0., 0., 0., 0.])"
            ]
          },
          "metadata": {},
          "execution_count": 6
        }
      ],
      "source": [
        "x=np.zeros(10)\n",
        "x[4]=1\n",
        "x"
      ]
    },
    {
      "cell_type": "markdown",
      "metadata": {
        "id": "XDcjzt8xfW_E"
      },
      "source": [
        "#### 7.  Create a vector with values ranging from 10 to 49 (★☆☆) \n",
        "(**hint**: np.arange)"
      ]
    },
    {
      "cell_type": "code",
      "execution_count": null,
      "metadata": {
        "id": "I-iIqdAIfW_F",
        "outputId": "0d4153e7-1593-4eed-e368-b9f1ca3bb6be",
        "colab": {
          "base_uri": "https://localhost:8080/"
        }
      },
      "outputs": [
        {
          "output_type": "execute_result",
          "data": {
            "text/plain": [
              "array([10, 11, 12, 13, 14, 15, 16, 17, 18, 19, 20, 21, 22, 23, 24, 25, 26,\n",
              "       27, 28, 29, 30, 31, 32, 33, 34, 35, 36, 37, 38, 39, 40, 41, 42, 43,\n",
              "       44, 45, 46, 47, 48, 49])"
            ]
          },
          "metadata": {},
          "execution_count": 7
        }
      ],
      "source": [
        "y=np.arange(10,50)\n",
        "y"
      ]
    },
    {
      "cell_type": "markdown",
      "metadata": {
        "id": "6or0-u79fW_H"
      },
      "source": [
        "#### 8.  Reverse a vector (first element becomes last) (★☆☆) \n",
        "(**hint**: array\\[::-1\\])"
      ]
    },
    {
      "cell_type": "code",
      "execution_count": null,
      "metadata": {
        "id": "nlBa_I6CfW_I",
        "outputId": "abfc51b6-d436-4e3c-fdd0-b4d5bb020601",
        "colab": {
          "base_uri": "https://localhost:8080/"
        }
      },
      "outputs": [
        {
          "output_type": "execute_result",
          "data": {
            "text/plain": [
              "array([11, 10,  9,  8,  7,  6,  5,  4,  3,  2])"
            ]
          },
          "metadata": {},
          "execution_count": 8
        }
      ],
      "source": [
        "z=np.arange(11,1,-1)\n",
        "z"
      ]
    },
    {
      "cell_type": "markdown",
      "metadata": {
        "id": "TEz79QY8fW_J"
      },
      "source": [
        "#### 9.  Create a 3x3 matrix with values ranging from 0 to 8 (★☆☆) \n",
        "(**hint**: reshape)"
      ]
    },
    {
      "cell_type": "code",
      "execution_count": null,
      "metadata": {
        "id": "WydEgypLfW_M",
        "outputId": "7c7491ad-4d2d-457a-8e85-47c1fe480010",
        "colab": {
          "base_uri": "https://localhost:8080/"
        }
      },
      "outputs": [
        {
          "output_type": "execute_result",
          "data": {
            "text/plain": [
              "array([[0, 1, 2],\n",
              "       [3, 4, 5],\n",
              "       [6, 7, 8]])"
            ]
          },
          "metadata": {},
          "execution_count": 9
        }
      ],
      "source": [
        "x=np.arange(0,9).reshape(3,3)\n",
        "x"
      ]
    },
    {
      "cell_type": "markdown",
      "metadata": {
        "id": "AWQc3yFofW_O"
      },
      "source": [
        "#### 10. Find indices of non-zero elements from \\[1,2,0,0,4,0\\] (★☆☆) \n",
        "(**hint**: np.nonzero)"
      ]
    },
    {
      "cell_type": "code",
      "execution_count": null,
      "metadata": {
        "id": "gYb2crYtfW_Q",
        "outputId": "6be0a475-d812-4836-f869-12f57bc435cb",
        "colab": {
          "base_uri": "https://localhost:8080/"
        }
      },
      "outputs": [
        {
          "output_type": "execute_result",
          "data": {
            "text/plain": [
              "(array([0, 1, 4]),)"
            ]
          },
          "metadata": {},
          "execution_count": 10
        }
      ],
      "source": [
        "a=[1,2,0,0,4,0]\n",
        "out=np.nonzero(a)\n",
        "out"
      ]
    },
    {
      "cell_type": "markdown",
      "metadata": {
        "id": "DNBCEIkqfW_R"
      },
      "source": [
        "#### 11. Create a 3x3 identity matrix (★☆☆) \n",
        "(**hint**: np.eye)"
      ]
    },
    {
      "cell_type": "code",
      "execution_count": null,
      "metadata": {
        "id": "ZakIv5lVfW_S",
        "outputId": "f8f8bae8-35a6-4fd6-cfb9-ec6f23a46002",
        "colab": {
          "base_uri": "https://localhost:8080/"
        }
      },
      "outputs": [
        {
          "output_type": "execute_result",
          "data": {
            "text/plain": [
              "array([[1., 0., 0.],\n",
              "       [0., 1., 0.],\n",
              "       [0., 0., 1.]])"
            ]
          },
          "metadata": {},
          "execution_count": 11
        }
      ],
      "source": [
        "i=np.eye(3,3)\n",
        "i"
      ]
    },
    {
      "cell_type": "markdown",
      "metadata": {
        "id": "oxnltjEMfW_U"
      },
      "source": [
        "#### 12. Create a 3x3x3 array with random values (★☆☆) \n",
        "(**hint**: np.random.random)"
      ]
    },
    {
      "cell_type": "code",
      "execution_count": null,
      "metadata": {
        "collapsed": true,
        "id": "sCVjlz8PfW_V",
        "colab": {
          "base_uri": "https://localhost:8080/"
        },
        "outputId": "baf46ff1-fb77-4e22-ff8b-c434da85bc92"
      },
      "outputs": [
        {
          "output_type": "execute_result",
          "data": {
            "text/plain": [
              "array([[[0.07445389, 0.62227457, 0.89409532],\n",
              "        [0.27373021, 0.19417961, 0.78207616],\n",
              "        [0.88891617, 0.09295283, 0.03108469]],\n",
              "\n",
              "       [[0.74418639, 0.8465982 , 0.75829435],\n",
              "        [0.53753341, 0.56594434, 0.47541044],\n",
              "        [0.77697922, 0.89383046, 0.72069184]],\n",
              "\n",
              "       [[0.7214076 , 0.35362301, 0.35648991],\n",
              "        [0.79533367, 0.85141429, 0.09524491],\n",
              "        [0.34452024, 0.1155882 , 0.01646772]]])"
            ]
          },
          "metadata": {},
          "execution_count": 12
        }
      ],
      "source": [
        "randval=np.random.random((3,3,3))\n",
        "randval"
      ]
    },
    {
      "cell_type": "markdown",
      "metadata": {
        "id": "A5-LWLpLfW_W"
      },
      "source": [
        "#### 13. Create a 10x10 array with random values and find the minimum and maximum values (★☆☆) \n",
        "(**hint**: min, max)"
      ]
    },
    {
      "cell_type": "code",
      "execution_count": null,
      "metadata": {
        "id": "9ubVeTgnfW_W",
        "colab": {
          "base_uri": "https://localhost:8080/"
        },
        "outputId": "9b841a84-55e2-4bbd-c8d6-5354563583c2"
      },
      "outputs": [
        {
          "output_type": "execute_result",
          "data": {
            "text/plain": [
              "array([[0.76101654, 0.59063184, 0.23899531, 0.44650724, 0.04281555,\n",
              "        0.01292412, 0.444913  , 0.97667056, 0.05534525, 0.42392065],\n",
              "       [0.53374386, 0.0584447 , 0.69272433, 0.21005319, 0.46209478,\n",
              "        0.42709105, 0.09157114, 0.57797827, 0.61137485, 0.19848392],\n",
              "       [0.3684077 , 0.34887607, 0.40167302, 0.84177142, 0.23094058,\n",
              "        0.058834  , 0.59259676, 0.0647397 , 0.94101506, 0.14192745],\n",
              "       [0.68264232, 0.65559464, 0.60387391, 0.21994683, 0.89295206,\n",
              "        0.77060527, 0.297424  , 0.87112477, 0.048089  , 0.68521607],\n",
              "       [0.53784666, 0.20200771, 0.75140318, 0.91872849, 0.48466575,\n",
              "        0.97701862, 0.52626375, 0.31440263, 0.30364296, 0.90341884],\n",
              "       [0.32342129, 0.24930577, 0.71847342, 0.55160185, 0.48848098,\n",
              "        0.4012479 , 0.56125006, 0.51444441, 0.90725746, 0.99052587],\n",
              "       [0.03476194, 0.97042081, 0.24069641, 0.24482654, 0.75131681,\n",
              "        0.69136171, 0.2299279 , 0.30453821, 0.36282371, 0.59649852],\n",
              "       [0.35145316, 0.76717069, 0.36420907, 0.5528451 , 0.62570171,\n",
              "        0.74518108, 0.74658272, 0.67806844, 0.97103491, 0.37461647],\n",
              "       [0.71293293, 0.15494897, 0.68871958, 0.70059359, 0.02217903,\n",
              "        0.06589299, 0.37681559, 0.21616175, 0.87996169, 0.1093266 ],\n",
              "       [0.71993629, 0.90983532, 0.87798487, 0.08803352, 0.58048087,\n",
              "        0.13108905, 0.28896158, 0.42119126, 0.51685583, 0.28828526]])"
            ]
          },
          "metadata": {},
          "execution_count": 13
        }
      ],
      "source": [
        "z=np.random.random((10,10))\n",
        "z\n"
      ]
    },
    {
      "cell_type": "code",
      "source": [
        "z.min(),z.max()"
      ],
      "metadata": {
        "colab": {
          "base_uri": "https://localhost:8080/"
        },
        "id": "mOKxQU4s4M9T",
        "outputId": "e98ce1ba-ca9b-4b83-8b67-4a156eb332a1"
      },
      "execution_count": null,
      "outputs": [
        {
          "output_type": "execute_result",
          "data": {
            "text/plain": [
              "(0.01292411622263312, 0.9905258718965269)"
            ]
          },
          "metadata": {},
          "execution_count": 14
        }
      ]
    },
    {
      "cell_type": "markdown",
      "metadata": {
        "id": "GagvTKVBfW_Y"
      },
      "source": [
        "#### 14. Create a random vector of size 30 and find the mean value (★☆☆) \n",
        "(**hint**: mean)"
      ]
    },
    {
      "cell_type": "code",
      "execution_count": null,
      "metadata": {
        "id": "ZddaY9_dfW_c",
        "colab": {
          "base_uri": "https://localhost:8080/"
        },
        "outputId": "702a3dfc-6eae-4f33-b344-8e1902c042a7"
      },
      "outputs": [
        {
          "output_type": "execute_result",
          "data": {
            "text/plain": [
              "array([0.74987686, 0.37407816, 0.36460785, 0.60193695, 0.71826936,\n",
              "       0.91202644, 0.38473052, 0.63533781, 0.42251997, 0.14949064,\n",
              "       0.27020351, 0.6181243 , 0.88154954, 0.46538347, 0.2425189 ,\n",
              "       0.53029613, 0.55654727, 0.31244723, 0.22612793, 0.73149036,\n",
              "       0.63566985, 0.81907114, 0.5203147 , 0.55522027, 0.31203977,\n",
              "       0.27420306, 0.84534541, 0.99046134, 0.23009445, 0.02914195])"
            ]
          },
          "metadata": {},
          "execution_count": 15
        }
      ],
      "source": [
        "x=np.random.random(30)\n",
        "x"
      ]
    },
    {
      "cell_type": "code",
      "source": [
        "x.mean()"
      ],
      "metadata": {
        "colab": {
          "base_uri": "https://localhost:8080/"
        },
        "id": "bL3YzupE4nci",
        "outputId": "61e09376-b297-4af4-a360-616141db3f29"
      },
      "execution_count": null,
      "outputs": [
        {
          "output_type": "execute_result",
          "data": {
            "text/plain": [
              "0.5119708371875572"
            ]
          },
          "metadata": {},
          "execution_count": 16
        }
      ]
    },
    {
      "cell_type": "markdown",
      "metadata": {
        "id": "uGRo-I5UfW_e"
      },
      "source": [
        "#### 15. Create a 2d array with 1 on the border and 0 inside (★☆☆) \n",
        "(**hint**: array\\[1:-1, 1:-1\\])"
      ]
    },
    {
      "cell_type": "code",
      "execution_count": null,
      "metadata": {
        "id": "OePmq1gPfW_e",
        "colab": {
          "base_uri": "https://localhost:8080/"
        },
        "outputId": "6539047b-140e-4e5d-e6c9-5e1429f0c573"
      },
      "outputs": [
        {
          "output_type": "execute_result",
          "data": {
            "text/plain": [
              "array([[ 1,  2,  3,  4],\n",
              "       [ 5,  0,  0,  8],\n",
              "       [ 9,  0,  0, 12],\n",
              "       [13,  0,  0, 16],\n",
              "       [17, 18, 19, 20]])"
            ]
          },
          "metadata": {},
          "execution_count": 17
        }
      ],
      "source": [
        "Arr2d=np.arange(1,21).reshape(5,4)\n",
        "Arr2d[1:-1,1:-1]=0\n",
        "Arr2d\n"
      ]
    },
    {
      "cell_type": "markdown",
      "metadata": {
        "id": "3Yx2-PXBfW_f"
      },
      "source": [
        "#### 16. How to add a border (filled with 0's) around an existing array? (★☆☆) \n",
        "(**hint**: np.pad)"
      ]
    },
    {
      "cell_type": "code",
      "execution_count": null,
      "metadata": {
        "id": "G8Nw4u_YfW_g",
        "colab": {
          "base_uri": "https://localhost:8080/"
        },
        "outputId": "820fd798-5b07-41c3-e430-62bd5f64f91f"
      },
      "outputs": [
        {
          "output_type": "execute_result",
          "data": {
            "text/plain": [
              "array([[ 0,  0,  0,  0,  0],\n",
              "       [ 0,  1,  2,  3,  0],\n",
              "       [ 0,  4,  5,  6,  0],\n",
              "       [ 0,  7,  8,  9,  0],\n",
              "       [ 0, 10, 11, 12,  0],\n",
              "       [ 0, 13, 14, 15,  0],\n",
              "       [ 0,  0,  0,  0,  0]])"
            ]
          },
          "metadata": {},
          "execution_count": 18
        }
      ],
      "source": [
        "p=np.arange(1,16).reshape(5,3)\n",
        "out=np.pad(p,pad_width=1,mode=\"constant\",constant_values=0) \n",
        "out"
      ]
    },
    {
      "cell_type": "markdown",
      "metadata": {
        "id": "mBZri-6vfW_g"
      },
      "source": [
        "#### 17. What is the result of the following expression? (★☆☆) \n",
        "(**hint**: NaN = not a number, inf = infinity)"
      ]
    },
    {
      "cell_type": "markdown",
      "metadata": {
        "id": "I-yTPC3HfW_h"
      },
      "source": [
        "```python\n",
        "0 * np.nan\n",
        "np.nan == np.nan\n",
        "np.inf > np.nan\n",
        "np.nan - np.nan\n",
        "0.3 == 3 * 0.1\n",
        "```"
      ]
    },
    {
      "cell_type": "code",
      "execution_count": null,
      "metadata": {
        "id": "r4TDbTWRfW_i",
        "colab": {
          "base_uri": "https://localhost:8080/"
        },
        "outputId": "45068c06-7ac2-4d14-eae8-6725515d8ea7"
      },
      "outputs": [
        {
          "output_type": "execute_result",
          "data": {
            "text/plain": [
              "nan"
            ]
          },
          "metadata": {},
          "execution_count": 19
        }
      ],
      "source": [
        " 0 * np.nan"
      ]
    },
    {
      "cell_type": "code",
      "source": [
        "np.nan == np.nan\n",
        "np.inf > np.nan\n",
        "np.nan - np.nan"
      ],
      "metadata": {
        "colab": {
          "base_uri": "https://localhost:8080/"
        },
        "id": "To58mYoSB72o",
        "outputId": "c110eefe-c5d2-45ff-9875-61b947de7496"
      },
      "execution_count": null,
      "outputs": [
        {
          "output_type": "execute_result",
          "data": {
            "text/plain": [
              "nan"
            ]
          },
          "metadata": {},
          "execution_count": 20
        }
      ]
    },
    {
      "cell_type": "code",
      "source": [
        "0.3 == 3*0.1"
      ],
      "metadata": {
        "colab": {
          "base_uri": "https://localhost:8080/"
        },
        "id": "eA_QFgLPB9Tl",
        "outputId": "37119540-c155-4ce8-9236-5e30f0ebeadb"
      },
      "execution_count": null,
      "outputs": [
        {
          "output_type": "execute_result",
          "data": {
            "text/plain": [
              "False"
            ]
          },
          "metadata": {},
          "execution_count": 21
        }
      ]
    },
    {
      "cell_type": "markdown",
      "metadata": {
        "id": "gm7YFbadfW_j"
      },
      "source": [
        "#### 18. Create a 5x5 matrix with values 1,2,3,4 just below the diagonal (★☆☆) \n",
        "(**hint**: np.diag)"
      ]
    },
    {
      "cell_type": "code",
      "execution_count": null,
      "metadata": {
        "id": "XzgLoOkrfW_j",
        "colab": {
          "base_uri": "https://localhost:8080/"
        },
        "outputId": "730ce81c-5e21-42a7-f6fb-4bac59dcab74"
      },
      "outputs": [
        {
          "output_type": "execute_result",
          "data": {
            "text/plain": [
              "array([[0, 0, 0, 0, 0],\n",
              "       [1, 0, 0, 0, 0],\n",
              "       [0, 2, 0, 0, 0],\n",
              "       [0, 0, 3, 0, 0],\n",
              "       [0, 0, 0, 4, 0]])"
            ]
          },
          "metadata": {},
          "execution_count": 22
        }
      ],
      "source": [
        "x=np.diag([1,2,3,4],k=-1)\n",
        "x"
      ]
    },
    {
      "cell_type": "markdown",
      "metadata": {
        "id": "O5V5AF2qfW_j"
      },
      "source": [
        "#### 19. Create a 8x8 matrix and fill it with a checkerboard pattern (★☆☆) \n",
        "(**hint**: array\\[::2\\])"
      ]
    },
    {
      "cell_type": "code",
      "execution_count": null,
      "metadata": {
        "id": "fG2NknFRfW_k",
        "colab": {
          "base_uri": "https://localhost:8080/"
        },
        "outputId": "219f0de2-bc32-4c67-a3f9-b8696ca30799"
      },
      "outputs": [
        {
          "output_type": "execute_result",
          "data": {
            "text/plain": [
              "array([[0., 1., 0., 1., 0., 1., 0., 1.],\n",
              "       [1., 0., 1., 0., 1., 0., 1., 0.],\n",
              "       [0., 1., 0., 1., 0., 1., 0., 1.],\n",
              "       [1., 0., 1., 0., 1., 0., 1., 0.],\n",
              "       [0., 1., 0., 1., 0., 1., 0., 1.],\n",
              "       [1., 0., 1., 0., 1., 0., 1., 0.],\n",
              "       [0., 1., 0., 1., 0., 1., 0., 1.],\n",
              "       [1., 0., 1., 0., 1., 0., 1., 0.]])"
            ]
          },
          "metadata": {},
          "execution_count": 23
        }
      ],
      "source": [
        "x=np.ones((3,3))\n",
        "x = np.zeros((8,8))\n",
        "x[1::2,::2] = 1\n",
        "x[::2,1::2] = 1\n",
        "x"
      ]
    },
    {
      "cell_type": "markdown",
      "metadata": {
        "id": "To1VlV2IfW_k"
      },
      "source": [
        "#### 20. Consider a (6,7,8) shape array, what is the index (x,y,z) of the 100th element? \n",
        "(**hint**: np.unravel_index)"
      ]
    },
    {
      "cell_type": "code",
      "execution_count": null,
      "metadata": {
        "id": "D5gbswsofW_l",
        "colab": {
          "base_uri": "https://localhost:8080/"
        },
        "outputId": "8bc00816-ef07-485f-8855-6def96ede732"
      },
      "outputs": [
        {
          "output_type": "execute_result",
          "data": {
            "text/plain": [
              "(1, 5, 4)"
            ]
          },
          "metadata": {},
          "execution_count": 24
        }
      ],
      "source": [
        "i=np.unravel_index(100,(6,7,8))\n",
        "i"
      ]
    },
    {
      "cell_type": "markdown",
      "metadata": {
        "id": "prIMHPA7fW_l"
      },
      "source": [
        "#### 21. Create a checkerboard 8x8 matrix using the tile function (★☆☆) \n",
        "(**hint**: np.tile)"
      ]
    },
    {
      "cell_type": "code",
      "execution_count": null,
      "metadata": {
        "id": "RUD06O1WfW_m",
        "colab": {
          "base_uri": "https://localhost:8080/"
        },
        "outputId": "a301bb1d-142e-46c1-e47d-5e122f5c43d2"
      },
      "outputs": [
        {
          "output_type": "execute_result",
          "data": {
            "text/plain": [
              "array([[0, 1, 0, 1, 0, 1, 0, 1, 0, 1],\n",
              "       [3, 4, 3, 4, 3, 4, 3, 4, 3, 4],\n",
              "       [0, 1, 0, 1, 0, 1, 0, 1, 0, 1],\n",
              "       [3, 4, 3, 4, 3, 4, 3, 4, 3, 4],\n",
              "       [0, 1, 0, 1, 0, 1, 0, 1, 0, 1],\n",
              "       [3, 4, 3, 4, 3, 4, 3, 4, 3, 4],\n",
              "       [0, 1, 0, 1, 0, 1, 0, 1, 0, 1],\n",
              "       [3, 4, 3, 4, 3, 4, 3, 4, 3, 4],\n",
              "       [0, 1, 0, 1, 0, 1, 0, 1, 0, 1],\n",
              "       [3, 4, 3, 4, 3, 4, 3, 4, 3, 4]])"
            ]
          },
          "metadata": {},
          "execution_count": 25
        }
      ],
      "source": [
        "x=np.tile(np.array([[0,1],[3,4]]),(5,5))\n",
        "x"
      ]
    },
    {
      "cell_type": "markdown",
      "metadata": {
        "id": "V9iW3tsSfW_m"
      },
      "source": [
        "#### 22. Normalize a 5x5 random matrix (★☆☆) \n",
        "(**hint**: (x - min) / (max - min))"
      ]
    },
    {
      "cell_type": "code",
      "execution_count": null,
      "metadata": {
        "id": "6hTRtBd1fW_n",
        "colab": {
          "base_uri": "https://localhost:8080/"
        },
        "outputId": "3056dda0-dc89-48f3-da10-f8180c1f62b7"
      },
      "outputs": [
        {
          "output_type": "execute_result",
          "data": {
            "text/plain": [
              "array([[0.94999041, 0.80109515, 0.06568833, 0.16350537, 0.56785569],\n",
              "       [0.39517563, 0.93761677, 0.77780059, 0.18069206, 0.49155571],\n",
              "       [0.24167712, 0.28759864, 0.79450943, 0.77439293, 0.95396361],\n",
              "       [0.81924557, 0.95338847, 0.46545878, 0.25416124, 0.4072254 ],\n",
              "       [0.56054257, 0.69170622, 0.75895613, 0.81603655, 0.97040315]])"
            ]
          },
          "metadata": {},
          "execution_count": 26
        }
      ],
      "source": [
        "x= np.random.random((5,5))\n",
        "x"
      ]
    },
    {
      "cell_type": "code",
      "source": [
        "xmax, xmin = x.max(), x.min()\n",
        "x = (x - xmin)/(xmax - xmin)\n",
        "x"
      ],
      "metadata": {
        "colab": {
          "base_uri": "https://localhost:8080/"
        },
        "id": "TeO02ZczZXsJ",
        "outputId": "ccfa9181-a2d5-454e-ac49-88dccdec2c09"
      },
      "execution_count": null,
      "outputs": [
        {
          "output_type": "execute_result",
          "data": {
            "text/plain": [
              "array([[0.97743738, 0.81286037, 0.        , 0.1081192 , 0.55505597],\n",
              "       [0.36418913, 0.96376053, 0.7871124 , 0.127116  , 0.47072002],\n",
              "       [0.19452405, 0.24528206, 0.80558103, 0.78334585, 0.98182903],\n",
              "       [0.83292239, 0.98119332, 0.44187455, 0.208323  , 0.37750798],\n",
              "       [0.54697263, 0.69195052, 0.76628323, 0.8293754 , 1.        ]])"
            ]
          },
          "metadata": {},
          "execution_count": 27
        }
      ]
    },
    {
      "cell_type": "markdown",
      "metadata": {
        "id": "aZM9V6fmfW_n"
      },
      "source": [
        "#### 23. Create a custom dtype that describes a color as four unsigned bytes (RGBA) (★☆☆) \n",
        "(**hint**: np.dtype)"
      ]
    },
    {
      "cell_type": "code",
      "execution_count": null,
      "metadata": {
        "collapsed": true,
        "id": "Exv6njLXfW_n",
        "colab": {
          "base_uri": "https://localhost:8080/"
        },
        "outputId": "bcd16438-32ce-4f4a-9947-75471bdb7408"
      },
      "outputs": [
        {
          "output_type": "stream",
          "name": "stderr",
          "text": [
            "/usr/local/lib/python3.7/dist-packages/ipykernel_launcher.py:4: FutureWarning: Passing (type, 1) or '1type' as a synonym of type is deprecated; in a future version of numpy, it will be understood as (type, (1,)) / '(1,)type'.\n",
            "  after removing the cwd from sys.path.\n"
          ]
        },
        {
          "output_type": "execute_result",
          "data": {
            "text/plain": [
              "dtype([('r', 'u1'), ('g', 'u1'), ('b', 'u1'), ('a', 'u1')])"
            ]
          },
          "metadata": {},
          "execution_count": 28
        }
      ],
      "source": [
        "clor = np.dtype([(\"r\", np.ubyte, 1),\n",
        "                  (\"g\", np.ubyte, 1),\n",
        "                  (\"b\", np.ubyte, 1),\n",
        "                  (\"a\", np.ubyte, 1)])\n",
        "clor"
      ]
    },
    {
      "cell_type": "markdown",
      "metadata": {
        "id": "SuhnbXS6fW_o"
      },
      "source": [
        "#### 24. Multiply a 5x3 matrix by a 3x2 matrix (real matrix product) (★☆☆) \n",
        "(**hint**: np.dot | @)"
      ]
    },
    {
      "cell_type": "code",
      "execution_count": null,
      "metadata": {
        "id": "yd0mcnM3fW_p",
        "colab": {
          "base_uri": "https://localhost:8080/"
        },
        "outputId": "79e0f874-9b7a-40bd-859d-9744bad92c72"
      },
      "outputs": [
        {
          "output_type": "execute_result",
          "data": {
            "text/plain": [
              "array([[3., 3.],\n",
              "       [3., 3.],\n",
              "       [3., 3.],\n",
              "       [3., 3.],\n",
              "       [3., 3.]])"
            ]
          },
          "metadata": {},
          "execution_count": 29
        }
      ],
      "source": [
        "realmat = np.dot(np.ones((5,3)), np.ones((3,2)))\n",
        "realmat"
      ]
    },
    {
      "cell_type": "markdown",
      "metadata": {
        "id": "-x6nSVxKfW_p"
      },
      "source": [
        "#### 25. Given a 1D array, negate all elements which are between 3 and 8, in place. (★☆☆) \n",
        "(**hint**: >, <=)"
      ]
    },
    {
      "cell_type": "code",
      "execution_count": null,
      "metadata": {
        "id": "zRWrqcUSfW_q",
        "colab": {
          "base_uri": "https://localhost:8080/"
        },
        "outputId": "ea4362f7-68bf-46dc-9478-89953cb0114a"
      },
      "outputs": [
        {
          "output_type": "execute_result",
          "data": {
            "text/plain": [
              "array([ 0,  1,  2,  3, -4, -5, -6, -7, -8,  9, 10])"
            ]
          },
          "metadata": {},
          "execution_count": 30
        }
      ],
      "source": [
        "neg = np.arange(11)\n",
        "neg[(3 < neg) & (neg <= 8)] *= -1\n",
        "neg"
      ]
    },
    {
      "cell_type": "markdown",
      "metadata": {
        "id": "GwEZWHBJfW_r"
      },
      "source": [
        "#### 26. What is the output of the following script? (★☆☆) \n",
        "(**hint**: np.sum)"
      ]
    },
    {
      "cell_type": "markdown",
      "metadata": {
        "id": "BD15JecsfW_s"
      },
      "source": [
        "```python\n",
        "# Author: Jake VanderPlas\n",
        "\n",
        "print(sum(range(5),-1))\n",
        "from numpy import *\n",
        "print(sum(range(5),-1))\n",
        "```"
      ]
    },
    {
      "cell_type": "code",
      "execution_count": null,
      "metadata": {
        "id": "_d4TIZwSfW_s",
        "colab": {
          "base_uri": "https://localhost:8080/"
        },
        "outputId": "26e1b91f-7c06-45c6-c553-4187b76e28d6"
      },
      "outputs": [
        {
          "output_type": "stream",
          "name": "stdout",
          "text": [
            "9\n",
            "10\n"
          ]
        }
      ],
      "source": [
        "print(sum(range(5),-1))\n",
        "from numpy import *\n",
        "print(sum(range(5),-1))"
      ]
    },
    {
      "cell_type": "markdown",
      "metadata": {
        "id": "6_9ddOLOfW_t"
      },
      "source": [
        "#### 27. Consider an integer vector Z, which of these expressions are legal? (★☆☆)"
      ]
    },
    {
      "cell_type": "markdown",
      "metadata": {
        "id": "8ueIBhWifW_t"
      },
      "source": [
        "```python\n",
        "Z**Z\n",
        "2 << Z >> 2\n",
        "Z <- Z\n",
        "1j*Z\n",
        "Z/1/1\n",
        "Z<Z>Z\n",
        "```"
      ]
    },
    {
      "cell_type": "code",
      "execution_count": null,
      "metadata": {
        "id": "YMWk_CN_fW_t",
        "colab": {
          "base_uri": "https://localhost:8080/"
        },
        "outputId": "87a845f2-4ce6-4027-d011-ab48d9e7cb2c"
      },
      "outputs": [
        {
          "output_type": "execute_result",
          "data": {
            "text/plain": [
              "array([[0.81234207, 0.73271056, 0.71029372, 0.69766332, 0.87379845,\n",
              "        0.9453476 , 0.6974499 , 0.97720857, 0.85199191, 0.69502149],\n",
              "       [0.71526275, 0.84707681, 0.77544739, 0.72053172, 0.69996121,\n",
              "        0.69534222, 0.80339116, 0.72843369, 0.74020808, 0.72545382],\n",
              "       [0.69220089, 0.69254647, 0.69324434, 0.86502886, 0.7128635 ,\n",
              "        0.84647145, 0.73339489, 0.83759783, 0.94439565, 0.75797512],\n",
              "       [0.77057207, 0.75820588, 0.73742722, 0.71671231, 0.90384069,\n",
              "        0.81807312, 0.69721928, 0.8867527 , 0.86421321, 0.77180287],\n",
              "       [0.71636698, 0.72390065, 0.80673444, 0.92507941, 0.70395463,\n",
              "        0.97754078, 0.71331193, 0.69503765, 0.69634303, 0.91232467],\n",
              "       [0.69414265, 0.70729712, 0.7885603 , 0.72024502, 0.70470605,\n",
              "        0.6932186 , 0.72312606, 0.71039465, 0.91548393, 0.99061521],\n",
              "       [0.88978678, 0.97128305, 0.70977706, 0.70855952, 0.80668468,\n",
              "        0.77477999, 0.71320128, 0.69622433, 0.69222479, 0.73476984],\n",
              "       [0.69245839, 0.81600443, 0.69221334, 0.72060884, 0.74573873,\n",
              "        0.80317823, 0.80397432, 0.76840805, 0.97186197, 0.69224307],\n",
              "       [0.78565805, 0.74906684, 0.77349347, 0.77935367, 0.91899811,\n",
              "        0.83592976, 0.69227516, 0.71813258, 0.89357342, 0.7850678 ],\n",
              "       [0.78933401, 0.91762006, 0.89203618, 0.80740912, 0.72926169,\n",
              "        0.76616555, 0.69855966, 0.69475868, 0.71097334, 0.6986743 ]])"
            ]
          },
          "metadata": {},
          "execution_count": 32
        }
      ],
      "source": [
        "z**z"
      ]
    },
    {
      "cell_type": "markdown",
      "metadata": {
        "id": "AJW1w-QdfW_u"
      },
      "source": [
        "#### 28. What are the result of the following expressions?"
      ]
    },
    {
      "cell_type": "markdown",
      "metadata": {
        "id": "8fYBJLTqfW_u"
      },
      "source": [
        "```python\n",
        "np.array(0) / np.array(0)\n",
        "np.array(0) // np.array(0)\n",
        "np.array([np.nan]).astype(int).astype(float)\n",
        "```"
      ]
    },
    {
      "cell_type": "code",
      "execution_count": null,
      "metadata": {
        "id": "8J67rknqfW_v",
        "colab": {
          "base_uri": "https://localhost:8080/"
        },
        "outputId": "90c115c2-3879-4beb-9942-cf1fc1446e38"
      },
      "outputs": [
        {
          "output_type": "stream",
          "name": "stderr",
          "text": [
            "/usr/local/lib/python3.7/dist-packages/ipykernel_launcher.py:1: RuntimeWarning: invalid value encountered in true_divide\n",
            "  \"\"\"Entry point for launching an IPython kernel.\n"
          ]
        },
        {
          "output_type": "execute_result",
          "data": {
            "text/plain": [
              "nan"
            ]
          },
          "metadata": {},
          "execution_count": 33
        }
      ],
      "source": [
        "k=np.array(0) / np.array(0)\n",
        "k\n"
      ]
    },
    {
      "cell_type": "code",
      "source": [
        "l=np.array(0) // np.array(0)\n",
        "l\n"
      ],
      "metadata": {
        "colab": {
          "base_uri": "https://localhost:8080/"
        },
        "id": "f2qDInPgb39R",
        "outputId": "c032de12-3a79-42be-c89e-0da7eb4faa5e"
      },
      "execution_count": null,
      "outputs": [
        {
          "output_type": "stream",
          "name": "stderr",
          "text": [
            "/usr/local/lib/python3.7/dist-packages/ipykernel_launcher.py:1: RuntimeWarning: divide by zero encountered in floor_divide\n",
            "  \"\"\"Entry point for launching an IPython kernel.\n"
          ]
        },
        {
          "output_type": "execute_result",
          "data": {
            "text/plain": [
              "0"
            ]
          },
          "metadata": {},
          "execution_count": 34
        }
      ]
    },
    {
      "cell_type": "code",
      "source": [
        "m=np.array([np.nan]).astype(int).astype(float)\n",
        "m"
      ],
      "metadata": {
        "colab": {
          "base_uri": "https://localhost:8080/"
        },
        "id": "JwX8DeTNb6NV",
        "outputId": "5df3cae7-e6bd-45af-9e5f-aae891f28ffc"
      },
      "execution_count": null,
      "outputs": [
        {
          "output_type": "execute_result",
          "data": {
            "text/plain": [
              "array([-9.22337204e+18])"
            ]
          },
          "metadata": {},
          "execution_count": 35
        }
      ]
    },
    {
      "cell_type": "markdown",
      "metadata": {
        "id": "U7QG-c-UfW_v"
      },
      "source": [
        "#### 29. How to round away from zero a float array ? (★☆☆) \n",
        "(**hint**: np.uniform, np.copysign, np.ceil, np.abs)"
      ]
    },
    {
      "cell_type": "code",
      "execution_count": null,
      "metadata": {
        "id": "4iAHMSJPfW_v",
        "colab": {
          "base_uri": "https://localhost:8080/"
        },
        "outputId": "529c986e-b9eb-4a32-8674-5e77b9b896b0"
      },
      "outputs": [
        {
          "output_type": "stream",
          "name": "stdout",
          "text": [
            "[-1. -7.  4. -1. -1. -3. -7.  8. -3. -1.]\n"
          ]
        }
      ],
      "source": [
        "Z = np.random.uniform(-10,+10,10)\n",
        "print (np.copysign(np.ceil(np.abs(Z)), Z))"
      ]
    },
    {
      "cell_type": "markdown",
      "metadata": {
        "id": "xX3lTL5VfW_v"
      },
      "source": [
        "#### 30. How to find common values between two arrays? (★☆☆) \n",
        "(**hint**: np.intersect1d)"
      ]
    },
    {
      "cell_type": "code",
      "execution_count": null,
      "metadata": {
        "id": "QCchlnOAfW_w",
        "colab": {
          "base_uri": "https://localhost:8080/"
        },
        "outputId": "fcc07691-c212-4b83-ebdd-150c55422b3c"
      },
      "outputs": [
        {
          "output_type": "execute_result",
          "data": {
            "text/plain": [
              "array([0, 1, 4, 8, 9])"
            ]
          },
          "metadata": {},
          "execution_count": 37
        }
      ],
      "source": [
        "x1 = np.random.randint(0,10,10)\n",
        "x2 = np.random.randint(0,10,10)\n",
        "out=np.intersect1d(x1,x2)\n",
        "out"
      ]
    },
    {
      "cell_type": "markdown",
      "metadata": {
        "id": "7dYIkOWTfW_w"
      },
      "source": [
        "#### 31. How to ignore all numpy warnings (not recommended)? (★☆☆) \n",
        "(**hint**: np.seterr, np.errstate)"
      ]
    },
    {
      "cell_type": "code",
      "execution_count": null,
      "metadata": {
        "id": "YxUj_NsifW_w"
      },
      "outputs": [],
      "source": [
        "with np.errstate(divide='ignore'):\n",
        "    d = np.ones(1) / 0\n",
        "    d"
      ]
    },
    {
      "cell_type": "markdown",
      "metadata": {
        "id": "pIwv8ATGfW_x"
      },
      "source": [
        "#### 32. Is the following expressions true? (★☆☆) \n",
        "(**hint**: imaginary number)"
      ]
    },
    {
      "cell_type": "markdown",
      "metadata": {
        "id": "IjFxM-ZpfW_x"
      },
      "source": [
        "```python\n",
        "np.sqrt(-1) == np.emath.sqrt(-1)\n",
        "```"
      ]
    },
    {
      "cell_type": "code",
      "execution_count": null,
      "metadata": {
        "id": "frZvr48BfW_x",
        "colab": {
          "base_uri": "https://localhost:8080/"
        },
        "outputId": "8b4eb2e7-eced-40b2-e3e5-dcb3196e7581"
      },
      "outputs": [
        {
          "output_type": "stream",
          "name": "stderr",
          "text": [
            "/usr/local/lib/python3.7/dist-packages/ipykernel_launcher.py:1: RuntimeWarning: invalid value encountered in sqrt\n",
            "  \"\"\"Entry point for launching an IPython kernel.\n"
          ]
        },
        {
          "output_type": "execute_result",
          "data": {
            "text/plain": [
              "False"
            ]
          },
          "metadata": {},
          "execution_count": 39
        }
      ],
      "source": [
        "np.sqrt(-1) == np.emath.sqrt(-1)"
      ]
    },
    {
      "cell_type": "markdown",
      "metadata": {
        "id": "rkcT4WXnfW_y"
      },
      "source": [
        "#### 33. How to get the dates of yesterday, today and tomorrow? (★☆☆) \n",
        "(**hint**: np.datetime64, np.timedelta64)"
      ]
    },
    {
      "cell_type": "code",
      "execution_count": null,
      "metadata": {
        "collapsed": true,
        "id": "d8ZdOxyifW_y",
        "colab": {
          "base_uri": "https://localhost:8080/"
        },
        "outputId": "ff707b9b-1427-4d78-fa38-72588434da43"
      },
      "outputs": [
        {
          "output_type": "execute_result",
          "data": {
            "text/plain": [
              "numpy.datetime64('2022-04-25')"
            ]
          },
          "metadata": {},
          "execution_count": 40
        }
      ],
      "source": [
        "tmrw  = np.datetime64('today', 'D') + np.timedelta64(1, 'D')\n",
        "tmrw"
      ]
    },
    {
      "cell_type": "code",
      "source": [
        "ystday=tomorrow  = np.datetime64('today', 'D') - np.timedelta64(1, 'D')\n",
        "ystday"
      ],
      "metadata": {
        "colab": {
          "base_uri": "https://localhost:8080/"
        },
        "id": "YYP0xgadgcqj",
        "outputId": "8ba4c91d-9244-42c9-c371-a48075eebd4b"
      },
      "execution_count": null,
      "outputs": [
        {
          "output_type": "execute_result",
          "data": {
            "text/plain": [
              "numpy.datetime64('2022-04-23')"
            ]
          },
          "metadata": {},
          "execution_count": 41
        }
      ]
    },
    {
      "cell_type": "code",
      "source": [
        "today=np.datetime64('today', 'D') \n",
        "today"
      ],
      "metadata": {
        "colab": {
          "base_uri": "https://localhost:8080/"
        },
        "id": "MurzkIBzgmv4",
        "outputId": "68896e46-ef73-4f52-a823-2c1c23277b58"
      },
      "execution_count": null,
      "outputs": [
        {
          "output_type": "execute_result",
          "data": {
            "text/plain": [
              "numpy.datetime64('2022-04-24')"
            ]
          },
          "metadata": {},
          "execution_count": 42
        }
      ]
    },
    {
      "cell_type": "markdown",
      "metadata": {
        "id": "nFq4SvitfW_y"
      },
      "source": [
        "#### 34. How to get all the dates corresponding to the month of July 2016? (★★☆) \n",
        "(**hint**: np.arange(dtype=datetime64\\['D'\\]))"
      ]
    },
    {
      "cell_type": "code",
      "source": [
        "dates=np.arange('2016-07', '2016-08', dtype='datetime64[D]')\n",
        "dates"
      ],
      "metadata": {
        "colab": {
          "base_uri": "https://localhost:8080/"
        },
        "id": "O89DRaiBgpHY",
        "outputId": "de046a27-5db2-41a4-8fd5-d5ff190482d2"
      },
      "execution_count": null,
      "outputs": [
        {
          "output_type": "execute_result",
          "data": {
            "text/plain": [
              "array(['2016-07-01', '2016-07-02', '2016-07-03', '2016-07-04',\n",
              "       '2016-07-05', '2016-07-06', '2016-07-07', '2016-07-08',\n",
              "       '2016-07-09', '2016-07-10', '2016-07-11', '2016-07-12',\n",
              "       '2016-07-13', '2016-07-14', '2016-07-15', '2016-07-16',\n",
              "       '2016-07-17', '2016-07-18', '2016-07-19', '2016-07-20',\n",
              "       '2016-07-21', '2016-07-22', '2016-07-23', '2016-07-24',\n",
              "       '2016-07-25', '2016-07-26', '2016-07-27', '2016-07-28',\n",
              "       '2016-07-29', '2016-07-30', '2016-07-31'], dtype='datetime64[D]')"
            ]
          },
          "metadata": {},
          "execution_count": 43
        }
      ]
    },
    {
      "cell_type": "markdown",
      "metadata": {
        "id": "rxjggeXWfW_z"
      },
      "source": [
        "#### 35. How to compute ((A+B)\\*(-A/2)) in place (without copy)? (★★☆) \n",
        "(**hint**: np.add(out=), np.negative(out=), np.multiply(out=), np.divide(out=))"
      ]
    },
    {
      "cell_type": "code",
      "execution_count": null,
      "metadata": {
        "id": "9AA4hvzrfW_0",
        "colab": {
          "base_uri": "https://localhost:8080/"
        },
        "outputId": "fedefded-0426-4276-f77f-ea74e4771d76"
      },
      "outputs": [
        {
          "output_type": "execute_result",
          "data": {
            "text/plain": [
              "array([1., 1., 1.])"
            ]
          },
          "metadata": {},
          "execution_count": 44
        }
      ],
      "source": [
        "A = np.ones(3)*1\n",
        "A\n"
      ]
    },
    {
      "cell_type": "code",
      "source": [
        "A = np.ones(3)*1\n",
        "B = np.ones(3)*2\n",
        "C = np.ones(3)*3\n"
      ],
      "metadata": {
        "id": "D4ETjHvsf9f4"
      },
      "execution_count": null,
      "outputs": []
    },
    {
      "cell_type": "code",
      "source": [
        "np.add(A,B,out=B)\n"
      ],
      "metadata": {
        "colab": {
          "base_uri": "https://localhost:8080/"
        },
        "id": "3aO2yWXbgJFp",
        "outputId": "491438ff-3d12-488c-836c-53a2a79ec90a"
      },
      "execution_count": null,
      "outputs": [
        {
          "output_type": "execute_result",
          "data": {
            "text/plain": [
              "array([3., 3., 3.])"
            ]
          },
          "metadata": {},
          "execution_count": 46
        }
      ]
    },
    {
      "cell_type": "code",
      "source": [
        "np.divide(A,2,out=A)\n"
      ],
      "metadata": {
        "colab": {
          "base_uri": "https://localhost:8080/"
        },
        "id": "hO6SopnxgOtN",
        "outputId": "6cd8d1a2-09d0-4754-9c26-5bfbdb99d1a9"
      },
      "execution_count": null,
      "outputs": [
        {
          "output_type": "execute_result",
          "data": {
            "text/plain": [
              "array([0.5, 0.5, 0.5])"
            ]
          },
          "metadata": {},
          "execution_count": 47
        }
      ]
    },
    {
      "cell_type": "code",
      "source": [
        "np.negative(A,out=A)"
      ],
      "metadata": {
        "colab": {
          "base_uri": "https://localhost:8080/"
        },
        "id": "iacGAAxGgJIg",
        "outputId": "da96c8bb-23d4-45e6-ea42-33deacc3d3df"
      },
      "execution_count": null,
      "outputs": [
        {
          "output_type": "execute_result",
          "data": {
            "text/plain": [
              "array([-0.5, -0.5, -0.5])"
            ]
          },
          "metadata": {},
          "execution_count": 48
        }
      ]
    },
    {
      "cell_type": "markdown",
      "metadata": {
        "id": "bUAZmIGNfW_0"
      },
      "source": [
        "#### 36. Extract the integer part of a random array using 5 different methods (★★☆) \n",
        "(**hint**: %, np.floor, np.ceil, astype, np.trunc)"
      ]
    },
    {
      "cell_type": "code",
      "execution_count": null,
      "metadata": {
        "id": "WWIhyKZufW_1",
        "colab": {
          "base_uri": "https://localhost:8080/"
        },
        "outputId": "963a18a2-e67c-45b6-df17-996fd3671243"
      },
      "outputs": [
        {
          "output_type": "execute_result",
          "data": {
            "text/plain": [
              "array([ 1.5,  2.5,  3.5,  4.5,  5.5,  6.5,  7.5,  8.5,  9.5, 10.5, 11.5,\n",
              "       12.5, 13.5, 14.5])"
            ]
          },
          "metadata": {},
          "execution_count": 49
        }
      ],
      "source": [
        "num=np.arange(1.5,15.5)\n",
        "num"
      ]
    },
    {
      "cell_type": "code",
      "source": [
        "FLOOR=np.floor(num)\n",
        "FLOOR"
      ],
      "metadata": {
        "colab": {
          "base_uri": "https://localhost:8080/"
        },
        "id": "wH7ZqE2thZmn",
        "outputId": "efa1aab6-4b74-4d6e-a71a-6e5fe3299468"
      },
      "execution_count": null,
      "outputs": [
        {
          "output_type": "execute_result",
          "data": {
            "text/plain": [
              "array([ 1.,  2.,  3.,  4.,  5.,  6.,  7.,  8.,  9., 10., 11., 12., 13.,\n",
              "       14.])"
            ]
          },
          "metadata": {},
          "execution_count": 50
        }
      ]
    },
    {
      "cell_type": "code",
      "source": [
        "CEIL=np.ceil(num)\n",
        "CEIL"
      ],
      "metadata": {
        "colab": {
          "base_uri": "https://localhost:8080/"
        },
        "id": "Av7LbCEZh0wI",
        "outputId": "ed41f58f-164e-4e0c-cde5-7e8df7b70fc7"
      },
      "execution_count": null,
      "outputs": [
        {
          "output_type": "execute_result",
          "data": {
            "text/plain": [
              "array([ 2.,  3.,  4.,  5.,  6.,  7.,  8.,  9., 10., 11., 12., 13., 14.,\n",
              "       15.])"
            ]
          },
          "metadata": {},
          "execution_count": 51
        }
      ]
    },
    {
      "cell_type": "code",
      "source": [
        "TYPE=num.astype(int)\n",
        "TYPE"
      ],
      "metadata": {
        "colab": {
          "base_uri": "https://localhost:8080/"
        },
        "id": "eVq5l9Ngh7Fy",
        "outputId": "a513f32d-99be-4ebf-c5af-60320da9ba87"
      },
      "execution_count": null,
      "outputs": [
        {
          "output_type": "execute_result",
          "data": {
            "text/plain": [
              "array([ 1,  2,  3,  4,  5,  6,  7,  8,  9, 10, 11, 12, 13, 14])"
            ]
          },
          "metadata": {},
          "execution_count": 52
        }
      ]
    },
    {
      "cell_type": "code",
      "source": [
        "TRUN=np.trunc(num)\n",
        "TRUN"
      ],
      "metadata": {
        "colab": {
          "base_uri": "https://localhost:8080/"
        },
        "id": "0u_Y2qVTiLoT",
        "outputId": "65d66bd8-c41c-4f3e-8ae9-974e2eaf9881"
      },
      "execution_count": null,
      "outputs": [
        {
          "output_type": "execute_result",
          "data": {
            "text/plain": [
              "array([ 1.,  2.,  3.,  4.,  5.,  6.,  7.,  8.,  9., 10., 11., 12., 13.,\n",
              "       14.])"
            ]
          },
          "metadata": {},
          "execution_count": 53
        }
      ]
    },
    {
      "cell_type": "markdown",
      "metadata": {
        "id": "vWnWtAqAfW_1"
      },
      "source": [
        "#### 37. Create a 5x5 matrix with row values ranging from 0 to 4 (★★☆) \n",
        "(**hint**: np.arange)"
      ]
    },
    {
      "cell_type": "code",
      "execution_count": null,
      "metadata": {
        "id": "buKeFIySfW_1",
        "colab": {
          "base_uri": "https://localhost:8080/"
        },
        "outputId": "f12df7b3-1572-4729-a199-d1449337a9a1"
      },
      "outputs": [
        {
          "output_type": "execute_result",
          "data": {
            "text/plain": [
              "array([[0., 1., 2., 3., 4.],\n",
              "       [0., 1., 2., 3., 4.],\n",
              "       [0., 1., 2., 3., 4.],\n",
              "       [0., 1., 2., 3., 4.],\n",
              "       [0., 1., 2., 3., 4.]])"
            ]
          },
          "metadata": {},
          "execution_count": 54
        }
      ],
      "source": [
        "r=np.zeros((5,5))\n",
        "r+=np.arange(5)\n",
        "r\n"
      ]
    },
    {
      "cell_type": "markdown",
      "metadata": {
        "id": "eBioN8-5fW_2"
      },
      "source": [
        "#### 38. Consider a generator function that generates 10 integers and use it to build an array (★☆☆) \n",
        "(**hint**: np.fromiter)"
      ]
    },
    {
      "cell_type": "code",
      "execution_count": null,
      "metadata": {
        "id": "-cMkvrmffW_2",
        "colab": {
          "base_uri": "https://localhost:8080/"
        },
        "outputId": "42f0573e-fe52-4c9e-f83f-69d810b28f9e"
      },
      "outputs": [
        {
          "output_type": "execute_result",
          "data": {
            "text/plain": [
              "array([ 0.,  1.,  4.,  9., 16.])"
            ]
          },
          "metadata": {},
          "execution_count": 55
        }
      ],
      "source": [
        "iterable = (x*x for x in range(5))\n",
        "np.fromiter(iterable, float)"
      ]
    },
    {
      "cell_type": "markdown",
      "metadata": {
        "id": "NC_oOU18fW_3"
      },
      "source": [
        "#### 39. Create a vector of size 10 with values ranging from 0 to 1, both excluded (★★☆) \n",
        "(**hint**: np.linspace)"
      ]
    },
    {
      "cell_type": "code",
      "execution_count": null,
      "metadata": {
        "id": "kCcuh6d2fW_3",
        "colab": {
          "base_uri": "https://localhost:8080/"
        },
        "outputId": "f173f272-bf31-4150-a139-40039f7829c5"
      },
      "outputs": [
        {
          "output_type": "execute_result",
          "data": {
            "text/plain": [
              "array([0.1, 0.2, 0.3, 0.4, 0.5, 0.6, 0.7, 0.8, 0.9])"
            ]
          },
          "metadata": {},
          "execution_count": 56
        }
      ],
      "source": [
        "np.linspace(0,1,num=10,endpoint=False)[1:]"
      ]
    },
    {
      "cell_type": "markdown",
      "metadata": {
        "id": "h7HBGMnxfW_4"
      },
      "source": [
        "#### 40. Create a random vector of size 10 and sort it (★★☆) \n",
        "(**hint**: sort)"
      ]
    },
    {
      "cell_type": "code",
      "execution_count": null,
      "metadata": {
        "id": "3yv6gw2SfW_7",
        "colab": {
          "base_uri": "https://localhost:8080/"
        },
        "outputId": "3d8dac21-ebb0-4026-9b4c-4f18b6add7b0"
      },
      "outputs": [
        {
          "output_type": "execute_result",
          "data": {
            "text/plain": [
              "array([0.08668108, 0.11766673, 0.14578801, 0.17456849, 0.2482074 ,\n",
              "       0.35434192, 0.51493728, 0.59513347, 0.61019872, 0.76207153])"
            ]
          },
          "metadata": {},
          "execution_count": 57
        }
      ],
      "source": [
        "vector=np.random.random(10)\n",
        "vector.sort()\n",
        "vector"
      ]
    },
    {
      "cell_type": "markdown",
      "metadata": {
        "id": "xl0z--TXfW_8"
      },
      "source": [
        "#### 41. How to sum a small array faster than np.sum? (★★☆) \n",
        "(**hint**: np.add.reduce)"
      ]
    },
    {
      "cell_type": "code",
      "execution_count": null,
      "metadata": {
        "id": "C7W1RpE_fW_-",
        "colab": {
          "base_uri": "https://localhost:8080/"
        },
        "outputId": "fbcf63cc-4e47-470a-fc35-ff08ce04996e"
      },
      "outputs": [
        {
          "output_type": "execute_result",
          "data": {
            "text/plain": [
              "45"
            ]
          },
          "metadata": {},
          "execution_count": 58
        }
      ],
      "source": [
        "a= np.arange(10)\n",
        "np.add.reduce(a)"
      ]
    },
    {
      "cell_type": "markdown",
      "metadata": {
        "id": "gkzr2owFfW__"
      },
      "source": [
        "#### 42. Consider two random array A and B, check if they are equal (★★☆) \n",
        "(**hint**: np.allclose, np.array\\_equal)"
      ]
    },
    {
      "cell_type": "code",
      "execution_count": null,
      "metadata": {
        "id": "kedmI-jAfW__",
        "colab": {
          "base_uri": "https://localhost:8080/"
        },
        "outputId": "fd62b2cb-69cf-4723-d33f-50d3104abd4a"
      },
      "outputs": [
        {
          "output_type": "execute_result",
          "data": {
            "text/plain": [
              "(array([1, 0, 1, 0, 0]), array([0, 0, 1, 0, 0]))"
            ]
          },
          "metadata": {},
          "execution_count": 61
        }
      ],
      "source": [
        "A = np.random.randint(0,2,5)\n",
        "B = np.random.randint(0,2,5)\n",
        "A,B\n"
      ]
    },
    {
      "cell_type": "code",
      "source": [
        "equal = np.allclose(A,B)\n",
        "print(equal)"
      ],
      "metadata": {
        "colab": {
          "base_uri": "https://localhost:8080/"
        },
        "id": "Jzq4zovEtA-c",
        "outputId": "fe5ab1e9-ced3-4967-92c7-8f7ab29e767e"
      },
      "execution_count": null,
      "outputs": [
        {
          "output_type": "stream",
          "name": "stdout",
          "text": [
            "False\n"
          ]
        }
      ]
    },
    {
      "cell_type": "code",
      "source": [
        "equal = np.array_equal(A,B)\n",
        "print(equal)"
      ],
      "metadata": {
        "colab": {
          "base_uri": "https://localhost:8080/"
        },
        "id": "U_VQymnBtCut",
        "outputId": "f8c2d6b0-e663-4a8c-ee98-6eaaf21ec62e"
      },
      "execution_count": null,
      "outputs": [
        {
          "output_type": "stream",
          "name": "stdout",
          "text": [
            "False\n"
          ]
        }
      ]
    },
    {
      "cell_type": "markdown",
      "metadata": {
        "id": "jeDscA-OfXAA"
      },
      "source": [
        "#### 43. Make an array immutable (read-only) (★★☆) \n",
        "(**hint**: flags.writeable)"
      ]
    },
    {
      "cell_type": "code",
      "execution_count": null,
      "metadata": {
        "id": "J3P5Xf33fXAB"
      },
      "outputs": [],
      "source": [
        "A = np.zeros(10)\n",
        "A.flags.writeable = False"
      ]
    },
    {
      "cell_type": "code",
      "source": [
        "A[1]=1  #IMMUTABLE"
      ],
      "metadata": {
        "colab": {
          "base_uri": "https://localhost:8080/",
          "height": 165
        },
        "id": "zbLz-6JftQu9",
        "outputId": "f674c46d-bf0f-42d0-cfa4-3be6febd3975"
      },
      "execution_count": null,
      "outputs": [
        {
          "output_type": "error",
          "ename": "ValueError",
          "evalue": "ignored",
          "traceback": [
            "\u001b[0;31m---------------------------------------------------------------------------\u001b[0m",
            "\u001b[0;31mValueError\u001b[0m                                Traceback (most recent call last)",
            "\u001b[0;32m<ipython-input-65-e672bef02de0>\u001b[0m in \u001b[0;36m<module>\u001b[0;34m()\u001b[0m\n\u001b[0;32m----> 1\u001b[0;31m \u001b[0mA\u001b[0m\u001b[0;34m[\u001b[0m\u001b[0;36m1\u001b[0m\u001b[0;34m]\u001b[0m\u001b[0;34m=\u001b[0m\u001b[0;36m1\u001b[0m\u001b[0;34m\u001b[0m\u001b[0;34m\u001b[0m\u001b[0m\n\u001b[0m",
            "\u001b[0;31mValueError\u001b[0m: assignment destination is read-only"
          ]
        }
      ]
    },
    {
      "cell_type": "markdown",
      "metadata": {
        "id": "qwI252qNfXAB"
      },
      "source": [
        "#### 44. Consider a random 10x2 matrix representing cartesian coordinates, convert them to polar coordinates (★★☆) \n",
        "(**hint**: np.sqrt, np.arctan2)"
      ]
    },
    {
      "cell_type": "code",
      "execution_count": null,
      "metadata": {
        "id": "9fQB7iRBfXAC",
        "colab": {
          "base_uri": "https://localhost:8080/"
        },
        "outputId": "d175ca9e-bf8c-4294-efec-3dda915851b7"
      },
      "outputs": [
        {
          "output_type": "stream",
          "name": "stdout",
          "text": [
            "[0.94592762 0.75956453 0.07955358 1.05060604 1.08986423 0.87536246\n",
            " 0.60257276 0.51969986 0.46487893 0.46379611]\n",
            "[1.53263322 0.34356139 1.37008519 0.68516571 0.61363676 0.29260387\n",
            " 1.03378006 1.02835434 0.17684745 0.59698252]\n"
          ]
        }
      ],
      "source": [
        "A=np.random.random((10,2))\n",
        "X,Y = A[:,0], A[:,1]\n",
        "R = np.sqrt(X**2+Y**2)\n",
        "T = np.arctan2(Y,X)\n",
        "print(R)\n",
        "print(T)"
      ]
    },
    {
      "cell_type": "markdown",
      "metadata": {
        "id": "6FmI-L_XfXAC"
      },
      "source": [
        "#### 45. Create random vector of size 10 and replace the maximum value by 0 (★★☆) \n",
        "(**hint**: argmax)"
      ]
    },
    {
      "cell_type": "code",
      "execution_count": null,
      "metadata": {
        "id": "Y2kicamjfXAD",
        "colab": {
          "base_uri": "https://localhost:8080/"
        },
        "outputId": "1b37efc0-0dff-4100-aabb-65faa90151c1"
      },
      "outputs": [
        {
          "output_type": "execute_result",
          "data": {
            "text/plain": [
              "array([0.88475451, 0.5120571 , 0.66595317, 0.49282959, 0.86557479,\n",
              "       0.91494358, 0.22001997, 0.12810744, 0.        , 0.85711019])"
            ]
          },
          "metadata": {},
          "execution_count": 71
        }
      ],
      "source": [
        "A=np.random.random(10)\n",
        "A[A.argmax()] = 0\n",
        "A"
      ]
    },
    {
      "cell_type": "markdown",
      "metadata": {
        "id": "SKby6He9fXAD"
      },
      "source": [
        "#### 46. Create a structured array with `x` and `y` coordinates covering the \\[0,1\\]x\\[0,1\\] area (★★☆) \n",
        "(**hint**: np.meshgrid)"
      ]
    },
    {
      "cell_type": "code",
      "execution_count": null,
      "metadata": {
        "id": "4Nip4nvTfXAE",
        "colab": {
          "base_uri": "https://localhost:8080/"
        },
        "outputId": "ca0d3ea0-d040-483d-9b9b-07bf18de859b"
      },
      "outputs": [
        {
          "output_type": "stream",
          "name": "stdout",
          "text": [
            "[[(0.  , 0.  ) (0.25, 0.  ) (0.5 , 0.  ) (0.75, 0.  ) (1.  , 0.  )]\n",
            " [(0.  , 0.25) (0.25, 0.25) (0.5 , 0.25) (0.75, 0.25) (1.  , 0.25)]\n",
            " [(0.  , 0.5 ) (0.25, 0.5 ) (0.5 , 0.5 ) (0.75, 0.5 ) (1.  , 0.5 )]\n",
            " [(0.  , 0.75) (0.25, 0.75) (0.5 , 0.75) (0.75, 0.75) (1.  , 0.75)]\n",
            " [(0.  , 1.  ) (0.25, 1.  ) (0.5 , 1.  ) (0.75, 1.  ) (1.  , 1.  )]]\n"
          ]
        }
      ],
      "source": [
        "Z = np.zeros((5,5), [('x',float),('y',float)])\n",
        "Z['x'], Z['y'] = np.meshgrid(np.linspace(0,1,5),\n",
        "                             np.linspace(0,1,5))\n",
        "print(Z)"
      ]
    },
    {
      "cell_type": "markdown",
      "metadata": {
        "id": "TbltMc7cfXAE"
      },
      "source": [
        "####  47. Given two arrays, X and Y, construct the Cauchy matrix C (Cij =1/(xi - yj)) \n",
        "(**hint**: np.subtract.outer)"
      ]
    },
    {
      "cell_type": "code",
      "execution_count": null,
      "metadata": {
        "id": "0N-tRYFvfXAE",
        "colab": {
          "base_uri": "https://localhost:8080/"
        },
        "outputId": "85beb58d-b12e-41c2-fd7a-7cb9f0cef1ef"
      },
      "outputs": [
        {
          "output_type": "stream",
          "name": "stdout",
          "text": [
            "3638.163637117973\n"
          ]
        }
      ],
      "source": [
        "X = np.arange(8)\n",
        "Y = X + 0.5\n",
        "C = 1.0 / np.subtract.outer(X, Y)\n",
        "print(np.linalg.det(C))"
      ]
    },
    {
      "cell_type": "markdown",
      "metadata": {
        "id": "vUvCfqzefXAF"
      },
      "source": [
        "#### 48. Print the minimum and maximum representable value for each numpy scalar type (★★☆) \n",
        "(**hint**: np.iinfo, np.finfo, eps)"
      ]
    },
    {
      "cell_type": "code",
      "execution_count": null,
      "metadata": {
        "id": "gw8hU2NpfXAF",
        "colab": {
          "base_uri": "https://localhost:8080/"
        },
        "outputId": "4bfccc59-cb0c-4053-90e8-9286b96a86fb"
      },
      "outputs": [
        {
          "output_type": "stream",
          "name": "stdout",
          "text": [
            "-128\n",
            "127\n",
            "-2147483648\n",
            "2147483647\n",
            "-9223372036854775808\n",
            "9223372036854775807\n",
            "-3.4028235e+38\n",
            "3.4028235e+38\n",
            "1.1920929e-07\n",
            "-1.7976931348623157e+308\n",
            "1.7976931348623157e+308\n",
            "2.220446049250313e-16\n"
          ]
        }
      ],
      "source": [
        "for dtype in [np.int8, np.int32, np.int64]:\n",
        "   print(np.iinfo(dtype).min)\n",
        "   print(np.iinfo(dtype).max)\n",
        "for dtype in [np.float32, np.float64]:\n",
        "   print(np.finfo(dtype).min)\n",
        "   print(np.finfo(dtype).max)\n",
        "   print(np.finfo(dtype).eps)"
      ]
    },
    {
      "cell_type": "markdown",
      "metadata": {
        "id": "InkoxuJzfXAF"
      },
      "source": [
        "#### 49. How to print all the values of an array? (★★☆) \n",
        "(**hint**: np.set\\_printoptions)"
      ]
    },
    {
      "cell_type": "code",
      "execution_count": null,
      "metadata": {
        "id": "sGSe9VInfXAG",
        "colab": {
          "base_uri": "https://localhost:8080/"
        },
        "outputId": "1de7299d-f930-4b2b-d21c-229f4f451fb6"
      },
      "outputs": [
        {
          "output_type": "stream",
          "name": "stdout",
          "text": [
            "[[0. 0. 0. 0. 0. 0. 0. 0. 0. 0. 0. 0. 0. 0. 0. 0.]\n",
            " [0. 0. 0. 0. 0. 0. 0. 0. 0. 0. 0. 0. 0. 0. 0. 0.]\n",
            " [0. 0. 0. 0. 0. 0. 0. 0. 0. 0. 0. 0. 0. 0. 0. 0.]\n",
            " [0. 0. 0. 0. 0. 0. 0. 0. 0. 0. 0. 0. 0. 0. 0. 0.]\n",
            " [0. 0. 0. 0. 0. 0. 0. 0. 0. 0. 0. 0. 0. 0. 0. 0.]\n",
            " [0. 0. 0. 0. 0. 0. 0. 0. 0. 0. 0. 0. 0. 0. 0. 0.]\n",
            " [0. 0. 0. 0. 0. 0. 0. 0. 0. 0. 0. 0. 0. 0. 0. 0.]\n",
            " [0. 0. 0. 0. 0. 0. 0. 0. 0. 0. 0. 0. 0. 0. 0. 0.]\n",
            " [0. 0. 0. 0. 0. 0. 0. 0. 0. 0. 0. 0. 0. 0. 0. 0.]\n",
            " [0. 0. 0. 0. 0. 0. 0. 0. 0. 0. 0. 0. 0. 0. 0. 0.]\n",
            " [0. 0. 0. 0. 0. 0. 0. 0. 0. 0. 0. 0. 0. 0. 0. 0.]\n",
            " [0. 0. 0. 0. 0. 0. 0. 0. 0. 0. 0. 0. 0. 0. 0. 0.]\n",
            " [0. 0. 0. 0. 0. 0. 0. 0. 0. 0. 0. 0. 0. 0. 0. 0.]\n",
            " [0. 0. 0. 0. 0. 0. 0. 0. 0. 0. 0. 0. 0. 0. 0. 0.]\n",
            " [0. 0. 0. 0. 0. 0. 0. 0. 0. 0. 0. 0. 0. 0. 0. 0.]\n",
            " [0. 0. 0. 0. 0. 0. 0. 0. 0. 0. 0. 0. 0. 0. 0. 0.]]\n"
          ]
        }
      ],
      "source": [
        "\n",
        "Z = np.zeros((16,16))\n",
        "print(Z)"
      ]
    },
    {
      "cell_type": "markdown",
      "metadata": {
        "id": "oIFmYWz3fXAH"
      },
      "source": [
        "#### 50. How to find the closest value (to a given scalar) in a vector? (★★☆) \n",
        "(**hint**: argmin)"
      ]
    },
    {
      "cell_type": "code",
      "execution_count": null,
      "metadata": {
        "id": "_fS8_tVVfXAH",
        "colab": {
          "base_uri": "https://localhost:8080/"
        },
        "outputId": "5dbe0a51-f972-4d7f-ba6b-6858ed8ee1b7"
      },
      "outputs": [
        {
          "output_type": "execute_result",
          "data": {
            "text/plain": [
              "array([ 0,  1,  2,  3,  4,  5,  6,  7,  8,  9, 10, 11, 12, 13, 14, 15, 16,\n",
              "       17, 18, 19, 20, 21, 22, 23, 24, 25, 26, 27, 28, 29, 30, 31, 32, 33,\n",
              "       34, 35, 36, 37, 38, 39, 40, 41, 42, 43, 44, 45, 46, 47, 48, 49, 50,\n",
              "       51, 52, 53, 54, 55, 56, 57, 58, 59, 60, 61, 62, 63, 64, 65, 66, 67,\n",
              "       68, 69, 70, 71, 72, 73, 74, 75, 76, 77, 78, 79, 80, 81, 82, 83, 84,\n",
              "       85, 86, 87, 88, 89, 90, 91, 92, 93, 94, 95, 96, 97, 98, 99])"
            ]
          },
          "metadata": {},
          "execution_count": 81
        }
      ],
      "source": [
        "Z = np.arange(100)\n",
        "Z"
      ]
    },
    {
      "cell_type": "code",
      "source": [
        "v = np.random.uniform(0,100)\n",
        "v"
      ],
      "metadata": {
        "colab": {
          "base_uri": "https://localhost:8080/"
        },
        "id": "Ff9dfwozwIIC",
        "outputId": "d1027fd5-dc33-4ebe-98ea-99f40cebb429"
      },
      "execution_count": null,
      "outputs": [
        {
          "output_type": "execute_result",
          "data": {
            "text/plain": [
              "76.25349170127674"
            ]
          },
          "metadata": {},
          "execution_count": 82
        }
      ]
    },
    {
      "cell_type": "code",
      "source": [
        "index = (np.abs(Z-v)).argmin()\n",
        "print(Z[index])"
      ],
      "metadata": {
        "colab": {
          "base_uri": "https://localhost:8080/"
        },
        "id": "BetxR9nvwMaa",
        "outputId": "9e647bee-6c43-4783-91c8-58b69f3a1735"
      },
      "execution_count": null,
      "outputs": [
        {
          "output_type": "stream",
          "name": "stdout",
          "text": [
            "76\n"
          ]
        }
      ]
    },
    {
      "cell_type": "markdown",
      "metadata": {
        "id": "YSxNyy-_fXAI"
      },
      "source": [
        "#### 51. Create a structured array representing a position (x,y) and a color (r,g,b) (★★☆) \n",
        "(**hint**: dtype)"
      ]
    },
    {
      "cell_type": "code",
      "execution_count": null,
      "metadata": {
        "id": "FaS7_DOEfXAI",
        "colab": {
          "base_uri": "https://localhost:8080/"
        },
        "outputId": "c52f4cb1-e427-4d73-bc02-32b12e2888a7"
      },
      "outputs": [
        {
          "output_type": "stream",
          "name": "stdout",
          "text": [
            "[((0., 0.), (0., 0., 0.)) ((0., 0.), (0., 0., 0.))\n",
            " ((0., 0.), (0., 0., 0.)) ((0., 0.), (0., 0., 0.))\n",
            " ((0., 0.), (0., 0., 0.)) ((0., 0.), (0., 0., 0.))\n",
            " ((0., 0.), (0., 0., 0.)) ((0., 0.), (0., 0., 0.))\n",
            " ((0., 0.), (0., 0., 0.)) ((0., 0.), (0., 0., 0.))]\n"
          ]
        },
        {
          "output_type": "stream",
          "name": "stderr",
          "text": [
            "/usr/local/lib/python3.7/dist-packages/ipykernel_launcher.py:5: FutureWarning: Passing (type, 1) or '1type' as a synonym of type is deprecated; in a future version of numpy, it will be understood as (type, (1,)) / '(1,)type'.\n",
            "  \"\"\"\n"
          ]
        }
      ],
      "source": [
        "Z = np.zeros(10, [ ('position', [ ('x', float, 1),\n",
        "                                  ('y', float, 1)]),\n",
        "                   ('color',    [ ('r', float, 1),\n",
        "                                  ('g', float, 1),\n",
        "                                  ('b', float, 1)])])\n",
        "print(Z)"
      ]
    },
    {
      "cell_type": "markdown",
      "metadata": {
        "id": "KAf5eBmcfXAJ"
      },
      "source": [
        "#### 52. Consider a random vector with shape (100,2) representing coordinates, find point by point distances (★★☆) \n",
        "(**hint**: np.atleast\\_2d, T, np.sqrt)"
      ]
    },
    {
      "cell_type": "code",
      "execution_count": null,
      "metadata": {
        "id": "SuuaeOLjfXAL",
        "colab": {
          "base_uri": "https://localhost:8080/"
        },
        "outputId": "43dc602a-6db2-4628-b4c1-3b4049bedebd"
      },
      "outputs": [
        {
          "output_type": "stream",
          "name": "stdout",
          "text": [
            "[[0.         0.385204   0.62508129 0.79773433 0.82445388 0.87759791\n",
            "  0.46475711 0.53137744 0.22518279 0.17215233]\n",
            " [0.385204   0.         0.40281095 0.45557504 0.59467354 0.54644913\n",
            "  0.08598544 0.24106419 0.30243299 0.3704927 ]\n",
            " [0.62508129 0.40281095 0.         0.71226544 0.94580734 0.80386371\n",
            "  0.42576333 0.16922239 0.665003   0.70435794]\n",
            " [0.79773433 0.45557504 0.71226544 0.         0.3049067  0.09429956\n",
            "  0.37203201 0.56080884 0.61725253 0.70498228]\n",
            " [0.82445388 0.59467354 0.94580734 0.3049067  0.         0.27357043\n",
            "  0.53451372 0.77943831 0.60394811 0.68162657]\n",
            " [0.87759791 0.54644913 0.80386371 0.09429956 0.27357043 0.\n",
            "  0.46403685 0.65436596 0.68728731 0.77456068]\n",
            " [0.46475711 0.08598544 0.42576333 0.37203201 0.53451372 0.46403685\n",
            "  0.         0.25665275 0.35297466 0.42997273]\n",
            " [0.53137744 0.24106419 0.16922239 0.56080884 0.77943831 0.65436596\n",
            "  0.25665275 0.         0.52502612 0.57699119]\n",
            " [0.22518279 0.30243299 0.665003   0.61725253 0.60394811 0.68728731\n",
            "  0.35297466 0.52502612 0.         0.0877353 ]\n",
            " [0.17215233 0.3704927  0.70435794 0.70498228 0.68162657 0.77456068\n",
            "  0.42997273 0.57699119 0.0877353  0.        ]]\n"
          ]
        }
      ],
      "source": [
        "Z = np.random.random((10,2))\n",
        "X,Y = np.atleast_2d(Z[:,0], Z[:,1])\n",
        "D = np.sqrt( (X-X.T)**2 + (Y-Y.T)**2)\n",
        "print(D)\n"
      ]
    },
    {
      "cell_type": "markdown",
      "metadata": {
        "id": "sNikA1oafXAL"
      },
      "source": [
        "#### 53. How to convert a float (32 bits) array into an integer (32 bits) in place? \n",
        "(**hint**: astype(copy=False))"
      ]
    },
    {
      "cell_type": "code",
      "execution_count": null,
      "metadata": {
        "id": "mIQrjGg-fXAM",
        "colab": {
          "base_uri": "https://localhost:8080/"
        },
        "outputId": "0222d5db-ccb5-414d-c434-d999b5874a27"
      },
      "outputs": [
        {
          "output_type": "stream",
          "name": "stdout",
          "text": [
            "[0 1 2 3 4 5 6 7 8 9]\n"
          ]
        }
      ],
      "source": [
        "Z = np.arange(10, dtype=np.float32)\n",
        "Z = Z.astype(np.int32, copy=False)\n",
        "print(Z)"
      ]
    },
    {
      "cell_type": "markdown",
      "metadata": {
        "id": "XBdGg4mxfXAN"
      },
      "source": [
        "#### 54. How to read the following file? (★★☆) \n",
        "(**hint**: np.genfromtxt)"
      ]
    },
    {
      "cell_type": "markdown",
      "metadata": {
        "id": "TpJmJqTlfXAN"
      },
      "source": [
        "```\n",
        "1, 2, 3, 4, 5\n",
        "6,  ,  , 7, 8\n",
        " ,  , 9,10,11\n",
        "```"
      ]
    },
    {
      "cell_type": "code",
      "execution_count": null,
      "metadata": {
        "id": "chL-P1LBfXAO",
        "colab": {
          "base_uri": "https://localhost:8080/"
        },
        "outputId": "6a27db37-aba3-41f6-fef4-69fd2d0c4be2"
      },
      "outputs": [
        {
          "output_type": "stream",
          "name": "stdout",
          "text": [
            "[[ 1  2  3  4  5]\n",
            " [ 6 -1 -1  7  8]\n",
            " [-1 -1  9 10 11]]\n"
          ]
        },
        {
          "output_type": "stream",
          "name": "stderr",
          "text": [
            "/usr/local/lib/python3.7/dist-packages/ipykernel_launcher.py:5: DeprecationWarning: `np.int` is a deprecated alias for the builtin `int`. To silence this warning, use `int` by itself. Doing this will not modify any behavior and is safe. When replacing `np.int`, you may wish to use e.g. `np.int64` or `np.int32` to specify the precision. If you wish to review your current use, check the release note link for additional information.\n",
            "Deprecated in NumPy 1.20; for more details and guidance: https://numpy.org/devdocs/release/1.20.0-notes.html#deprecations\n",
            "  \"\"\"\n"
          ]
        }
      ],
      "source": [
        "from io import StringIO\n",
        "s = StringIO(\"\"\"1, 2, 3, 4, 5\\n\n",
        "                6,  ,  , 7, 8\\n\n",
        "                 ,  , 9,10,11\\n\"\"\")\n",
        "Z = np.genfromtxt(s, delimiter=\",\", dtype=np.int)\n",
        "print(Z)"
      ]
    },
    {
      "cell_type": "markdown",
      "metadata": {
        "id": "w_VVAPXzfXAO"
      },
      "source": [
        "#### 55. What is the equivalent of enumerate for numpy arrays? (★★☆) \n",
        "(**hint**: np.ndenumerate, np.ndindex)"
      ]
    },
    {
      "cell_type": "code",
      "execution_count": null,
      "metadata": {
        "id": "wJOv4mAPfXAO",
        "colab": {
          "base_uri": "https://localhost:8080/"
        },
        "outputId": "1e748e97-719e-4fb1-bdee-b6b68c418111"
      },
      "outputs": [
        {
          "output_type": "stream",
          "name": "stdout",
          "text": [
            "(0, 0) 0\n",
            "(0, 1) 1\n",
            "(0, 2) 2\n",
            "(1, 0) 3\n",
            "(1, 1) 4\n",
            "(1, 2) 5\n",
            "(2, 0) 6\n",
            "(2, 1) 7\n",
            "(2, 2) 8\n",
            "(0, 0) 0\n",
            "(0, 1) 1\n",
            "(0, 2) 2\n",
            "(1, 0) 3\n",
            "(1, 1) 4\n",
            "(1, 2) 5\n",
            "(2, 0) 6\n",
            "(2, 1) 7\n",
            "(2, 2) 8\n"
          ]
        }
      ],
      "source": [
        "Z = np.arange(9).reshape(3,3)\n",
        "for index, value in np.ndenumerate(Z):\n",
        "    print(index, value)\n",
        "for index in np.ndindex(Z.shape):\n",
        "    print(index, Z[index])"
      ]
    },
    {
      "cell_type": "markdown",
      "metadata": {
        "id": "0ETixPM6fXAP"
      },
      "source": [
        "#### 56. Generate a generic 2D Gaussian-like array (★★☆) \n",
        "(**hint**: np.meshgrid, np.exp)"
      ]
    },
    {
      "cell_type": "code",
      "execution_count": null,
      "metadata": {
        "id": "ICkmSkTHfXAP",
        "colab": {
          "base_uri": "https://localhost:8080/"
        },
        "outputId": "4e2afb51-08f1-4fa3-eeb8-bb20d5bc9729"
      },
      "outputs": [
        {
          "output_type": "stream",
          "name": "stdout",
          "text": [
            "[[0.36787944 0.44822088 0.51979489 0.57375342 0.60279818 0.60279818\n",
            "  0.57375342 0.51979489 0.44822088 0.36787944]\n",
            " [0.44822088 0.54610814 0.63331324 0.69905581 0.73444367 0.73444367\n",
            "  0.69905581 0.63331324 0.54610814 0.44822088]\n",
            " [0.51979489 0.63331324 0.73444367 0.81068432 0.85172308 0.85172308\n",
            "  0.81068432 0.73444367 0.63331324 0.51979489]\n",
            " [0.57375342 0.69905581 0.81068432 0.89483932 0.9401382  0.9401382\n",
            "  0.89483932 0.81068432 0.69905581 0.57375342]\n",
            " [0.60279818 0.73444367 0.85172308 0.9401382  0.98773022 0.98773022\n",
            "  0.9401382  0.85172308 0.73444367 0.60279818]\n",
            " [0.60279818 0.73444367 0.85172308 0.9401382  0.98773022 0.98773022\n",
            "  0.9401382  0.85172308 0.73444367 0.60279818]\n",
            " [0.57375342 0.69905581 0.81068432 0.89483932 0.9401382  0.9401382\n",
            "  0.89483932 0.81068432 0.69905581 0.57375342]\n",
            " [0.51979489 0.63331324 0.73444367 0.81068432 0.85172308 0.85172308\n",
            "  0.81068432 0.73444367 0.63331324 0.51979489]\n",
            " [0.44822088 0.54610814 0.63331324 0.69905581 0.73444367 0.73444367\n",
            "  0.69905581 0.63331324 0.54610814 0.44822088]\n",
            " [0.36787944 0.44822088 0.51979489 0.57375342 0.60279818 0.60279818\n",
            "  0.57375342 0.51979489 0.44822088 0.36787944]]\n"
          ]
        }
      ],
      "source": [
        "X, Y = np.meshgrid(np.linspace(-1,1,10), np.linspace(-1,1,10))\n",
        "D = np.sqrt(X*X+Y*Y)\n",
        "sigma, mu = 1.0, 0.0\n",
        "G = np.exp(-( (D-mu)**2 / ( 2.0 * sigma**2 ) ) )\n",
        "print(G)"
      ]
    },
    {
      "cell_type": "markdown",
      "metadata": {
        "id": "XuuFrNjXfXAP"
      },
      "source": [
        "#### 57. How to randomly place p elements in a 2D array? (★★☆) \n",
        "(**hint**: np.put, np.random.choice)"
      ]
    },
    {
      "cell_type": "code",
      "execution_count": null,
      "metadata": {
        "id": "FHsVwhG2fXAQ",
        "colab": {
          "base_uri": "https://localhost:8080/"
        },
        "outputId": "c39cde79-4161-46ec-e596-712bd82e59b0"
      },
      "outputs": [
        {
          "output_type": "stream",
          "name": "stdout",
          "text": [
            "[[0. 0. 0. 0. 0. 0. 0. 0. 0. 0.]\n",
            " [0. 0. 0. 0. 0. 0. 0. 1. 0. 0.]\n",
            " [0. 0. 0. 0. 0. 0. 0. 0. 0. 0.]\n",
            " [0. 0. 0. 1. 0. 0. 0. 0. 0. 0.]\n",
            " [0. 0. 0. 1. 0. 0. 0. 0. 0. 0.]\n",
            " [0. 0. 0. 0. 0. 0. 0. 0. 0. 0.]\n",
            " [0. 0. 0. 0. 0. 0. 0. 0. 0. 0.]\n",
            " [0. 0. 0. 0. 0. 0. 0. 0. 0. 0.]\n",
            " [0. 0. 0. 0. 0. 0. 0. 0. 0. 0.]\n",
            " [0. 0. 0. 0. 0. 0. 0. 0. 0. 0.]]\n"
          ]
        }
      ],
      "source": [
        "n = 10\n",
        "p = 3\n",
        "Z = np.zeros((n,n))\n",
        "np.put(Z, np.random.choice(range(n*n), p, replace=False),1)\n",
        "print(Z)"
      ]
    },
    {
      "cell_type": "markdown",
      "metadata": {
        "id": "zcc9LEjmfXAQ"
      },
      "source": [
        "#### 58. Subtract the mean of each row of a matrix (★★☆) \n",
        "(**hint**: mean(axis=,keepdims=))"
      ]
    },
    {
      "cell_type": "code",
      "execution_count": null,
      "metadata": {
        "id": "hXZMK2rkfXAQ",
        "colab": {
          "base_uri": "https://localhost:8080/"
        },
        "outputId": "47656d52-143e-492d-8cfd-30437ff9af33"
      },
      "outputs": [
        {
          "output_type": "stream",
          "name": "stdout",
          "text": [
            "[[-0.35267216  0.38448315 -0.15463192 -0.49785137  0.24452596 -0.04229624\n",
            "  -0.09557136  0.28516596  0.19234881  0.03649918]\n",
            " [-0.35183133 -0.04121385 -0.42270546  0.11820745  0.30406968  0.46541411\n",
            "  -0.16732091  0.23364413  0.0092287  -0.1474925 ]\n",
            " [-0.20023304 -0.15876006 -0.09150098  0.25214045  0.17846577  0.3737157\n",
            "  -0.44055281  0.41047044 -0.30778673 -0.01595875]\n",
            " [ 0.37289009 -0.50330089 -0.09716187 -0.09195941  0.21532432 -0.3998975\n",
            "   0.44908456 -0.33975938 -0.02744851  0.42222858]\n",
            " [ 0.37801212 -0.21984493  0.33851885  0.46648883 -0.24479251 -0.13400722\n",
            "  -0.26553478 -0.43745304  0.39999413 -0.28138144]]\n"
          ]
        }
      ],
      "source": [
        "X = np.random.rand(5, 10)\n",
        "Y = X - X.mean(axis=1, keepdims=True)\n",
        "Y = X - X.mean(axis=1).reshape(-1, 1)\n",
        "print(Y)"
      ]
    },
    {
      "cell_type": "markdown",
      "metadata": {
        "id": "fj9VNAA2fXAR"
      },
      "source": [
        "#### 59. How to sort an array by the nth column? (★★☆) \n",
        "(**hint**: argsort)"
      ]
    },
    {
      "cell_type": "code",
      "execution_count": null,
      "metadata": {
        "id": "OX0NRKQbfXAR",
        "colab": {
          "base_uri": "https://localhost:8080/"
        },
        "outputId": "fa8323b0-0ed5-42a1-f8c0-7a5f2785280d"
      },
      "outputs": [
        {
          "output_type": "stream",
          "name": "stdout",
          "text": [
            "[[5 4 9]\n",
            " [5 7 8]\n",
            " [3 4 2]]\n",
            "[[5 4 9]\n",
            " [3 4 2]\n",
            " [5 7 8]]\n"
          ]
        }
      ],
      "source": [
        "Z = np.random.randint(0,10,(3,3))\n",
        "print(Z)\n",
        "print(Z[Z[:,1].argsort()])"
      ]
    },
    {
      "cell_type": "markdown",
      "metadata": {
        "id": "qpefnaOHfXAR"
      },
      "source": [
        "#### 60. How to tell if a given 2D array has null columns? (★★☆) \n",
        "(**hint**: any, ~)"
      ]
    },
    {
      "cell_type": "code",
      "execution_count": null,
      "metadata": {
        "id": "oxBbVjNPfXAS",
        "colab": {
          "base_uri": "https://localhost:8080/"
        },
        "outputId": "d99702ee-714c-4e43-8ae1-71fd378cc7b8"
      },
      "outputs": [
        {
          "output_type": "stream",
          "name": "stdout",
          "text": [
            "False\n"
          ]
        }
      ],
      "source": [
        "Z = np.random.randint(0,3,(3,10))\n",
        "print((~Z.any(axis=0)).any())"
      ]
    },
    {
      "cell_type": "markdown",
      "metadata": {
        "id": "XWUHPwnHfXAS"
      },
      "source": [
        "#### 61. Find the nearest value from a given value in an array (★★☆) \n",
        "(**hint**: np.abs, argmin, flat)"
      ]
    },
    {
      "cell_type": "code",
      "execution_count": null,
      "metadata": {
        "id": "p2JFIt3ZfXAS",
        "colab": {
          "base_uri": "https://localhost:8080/"
        },
        "outputId": "ecb54f7b-3d68-45ab-e3df-91a8dc328f3a"
      },
      "outputs": [
        {
          "output_type": "stream",
          "name": "stdout",
          "text": [
            "0.47072001630947874\n"
          ]
        }
      ],
      "source": [
        "X = np.random.uniform(0,1,10)\n",
        "y = 0.5\n",
        "z = x.flat[np.abs(x - y).argmin()]\n",
        "print(z)"
      ]
    },
    {
      "cell_type": "markdown",
      "metadata": {
        "id": "ON9sj_c-fXAT"
      },
      "source": [
        "#### 62. Considering two arrays with shape (1,3) and (3,1), how to compute their sum using an iterator? (★★☆) \n",
        "(**hint**: np.nditer)"
      ]
    },
    {
      "cell_type": "code",
      "execution_count": null,
      "metadata": {
        "id": "JT7wNIW8fXAT",
        "colab": {
          "base_uri": "https://localhost:8080/"
        },
        "outputId": "e2e9456f-35e9-4320-8d2b-08d3e51153a7"
      },
      "outputs": [
        {
          "output_type": "stream",
          "name": "stdout",
          "text": [
            "[[0 1 2]\n",
            " [1 2 3]\n",
            " [2 3 4]]\n"
          ]
        }
      ],
      "source": [
        "A = np.arange(3).reshape(3,1)\n",
        "B = np.arange(3).reshape(1,3)\n",
        "it = np.nditer([A,B,None])\n",
        "for x,y,z in it: z[...] = x + y\n",
        "print(it.operands[2])"
      ]
    },
    {
      "cell_type": "markdown",
      "metadata": {
        "id": "HImaScvCfXAT"
      },
      "source": [
        "#### 63. Create an array class that has a name attribute (★★☆) \n",
        "(**hint**: class method)"
      ]
    },
    {
      "cell_type": "code",
      "execution_count": null,
      "metadata": {
        "id": "XwMvSyZTfXAU",
        "colab": {
          "base_uri": "https://localhost:8080/"
        },
        "outputId": "81202a7e-5ffe-4cd2-b7ad-0ee5c4b146b7"
      },
      "outputs": [
        {
          "output_type": "stream",
          "name": "stdout",
          "text": [
            "range_10\n"
          ]
        }
      ],
      "source": [
        "class NamedArray(np.ndarray):\n",
        "    def __new__(cls, array, name=\"no name\"):\n",
        "        obj = np.asarray(array).view(cls)\n",
        "        obj.name = name\n",
        "        return obj\n",
        "    def __array_finalize__(self, obj):\n",
        "        if obj is None: return\n",
        "        self.info = getattr(obj, 'name', \"no name\")\n",
        "\n",
        "Z = NamedArray(np.arange(10), \"range_10\")\n",
        "print (Z.name)"
      ]
    },
    {
      "cell_type": "markdown",
      "metadata": {
        "id": "zC159HE6fXAU"
      },
      "source": [
        "#### 64. Consider a given vector, how to add 1 to each element indexed by a second vector (be careful with repeated indices)? (★★★) \n",
        "(**hint**: np.bincount | np.add.at)"
      ]
    },
    {
      "cell_type": "code",
      "execution_count": null,
      "metadata": {
        "id": "Ljc0ZmLdfXAU",
        "colab": {
          "base_uri": "https://localhost:8080/"
        },
        "outputId": "2ca29e1a-197a-4010-a90d-7077f000e2c2"
      },
      "outputs": [
        {
          "output_type": "stream",
          "name": "stdout",
          "text": [
            "[3. 5. 2. 2. 2. 1. 5. 4. 5. 1.]\n"
          ]
        }
      ],
      "source": [
        "Z = np.ones(10)\n",
        "I = np.random.randint(0,len(Z),20)\n",
        "Z += np.bincount(I, minlength=len(Z))\n",
        "print(Z)"
      ]
    },
    {
      "cell_type": "markdown",
      "metadata": {
        "id": "ijqISkiAfXAV"
      },
      "source": [
        "#### 65. How to accumulate elements of a vector (X) to an array (F) based on an index list (I)? (★★★) \n",
        "(**hint**: np.bincount)"
      ]
    },
    {
      "cell_type": "code",
      "execution_count": null,
      "metadata": {
        "id": "AmqW4mhffXAV",
        "colab": {
          "base_uri": "https://localhost:8080/"
        },
        "outputId": "6fd899f6-1b9d-488e-b050-731f748c4030"
      },
      "outputs": [
        {
          "output_type": "stream",
          "name": "stdout",
          "text": [
            "[0. 7. 0. 6. 5. 0. 0. 0. 0. 3.]\n"
          ]
        }
      ],
      "source": [
        "X = [1,2,3,4,5,6]\n",
        "I = [1,3,9,3,4,1]\n",
        "F = np.bincount(I,X)\n",
        "print(F)"
      ]
    },
    {
      "cell_type": "markdown",
      "metadata": {
        "id": "6_FAN9e-fXAW"
      },
      "source": [
        "#### 66. Considering a (w,h,3) image of (dtype=ubyte), compute the number of unique colors (★★★) \n",
        "(**hint**: np.unique)"
      ]
    },
    {
      "cell_type": "code",
      "execution_count": null,
      "metadata": {
        "id": "XEDanNrrfXAW",
        "colab": {
          "base_uri": "https://localhost:8080/"
        },
        "outputId": "160f8dac-5d8c-4f5c-a3b7-ef404a22f0ac"
      },
      "outputs": [
        {
          "output_type": "stream",
          "name": "stdout",
          "text": [
            "8\n"
          ]
        }
      ],
      "source": [
        "w,h = 16,16\n",
        "I = np.random.randint(0,2,(h,w,3)).astype(np.ubyte)\n",
        "F = I[...,0]*(256*256) + I[...,1]*256 +I[...,2]\n",
        "n = len(np.unique(F))\n",
        "print(n)"
      ]
    },
    {
      "cell_type": "markdown",
      "metadata": {
        "id": "IV-uLGq_fXAX"
      },
      "source": [
        "#### 67. Considering a four dimensions array, how to get sum over the last two axis at once? (★★★) \n",
        "(**hint**: sum(axis=(-2,-1)))"
      ]
    },
    {
      "cell_type": "code",
      "execution_count": null,
      "metadata": {
        "id": "fPraNCvMfXAY",
        "colab": {
          "base_uri": "https://localhost:8080/"
        },
        "outputId": "8aa82bc1-a21b-4e8d-f360-f3b0e784cf66"
      },
      "outputs": [
        {
          "output_type": "stream",
          "name": "stdout",
          "text": [
            "[[64 64 53 53]\n",
            " [51 65 39 54]\n",
            " [58 43 57 56]]\n"
          ]
        }
      ],
      "source": [
        "A = np.random.randint(0,10,(3,4,3,4))\n",
        "sum = A.sum(axis=(-2,-1))\n",
        "print(sum)"
      ]
    },
    {
      "cell_type": "markdown",
      "metadata": {
        "id": "JKWIBqM0fXAY"
      },
      "source": [
        "#### 68. Considering a one-dimensional vector D, how to compute means of subsets of D using a vector S of same size describing subset  indices? (★★★) \n",
        "(**hint**: np.bincount)"
      ]
    },
    {
      "cell_type": "code",
      "execution_count": null,
      "metadata": {
        "id": "jrOSqwTHfXAZ",
        "colab": {
          "base_uri": "https://localhost:8080/"
        },
        "outputId": "d096460a-26be-48bc-c349-f0dcbcc545b6"
      },
      "outputs": [
        {
          "output_type": "stream",
          "name": "stdout",
          "text": [
            "[0.51261724 0.62558646 0.44691367 0.41474471 0.57893159 0.51093322\n",
            " 0.37809747 0.44230913 0.45363005 0.58825741]\n"
          ]
        }
      ],
      "source": [
        "D = np.random.uniform(0,1,100)\n",
        "S = np.random.randint(0,10,100)\n",
        "D_sums = np.bincount(S, weights=D)\n",
        "D_counts = np.bincount(S)\n",
        "D_means = D_sums / D_counts\n",
        "print(D_means)\n"
      ]
    },
    {
      "cell_type": "markdown",
      "metadata": {
        "id": "LO12wLKNfXAb"
      },
      "source": [
        "#### 69. How to get the diagonal of a dot product? (★★★) \n",
        "(**hint**: np.diag)"
      ]
    },
    {
      "cell_type": "code",
      "execution_count": null,
      "metadata": {
        "id": "zWXSMjo6fXAc",
        "colab": {
          "base_uri": "https://localhost:8080/"
        },
        "outputId": "6d337b2e-3406-494a-9d8c-788986613a4c"
      },
      "outputs": [
        {
          "output_type": "execute_result",
          "data": {
            "text/plain": [
              "array([2.12838755, 1.71185301, 1.4082012 , 2.00407217, 1.56998227])"
            ]
          },
          "metadata": {},
          "execution_count": 102
        }
      ],
      "source": [
        "A = np.random.uniform(0,1,(5,5))\n",
        "B = np.random.uniform(0,1,(5,5))\n",
        "np.diag(np.dot(A, B))"
      ]
    },
    {
      "cell_type": "markdown",
      "metadata": {
        "id": "Ypl24jdvfXAc"
      },
      "source": [
        "#### 70. Consider the vector \\[1, 2, 3, 4, 5\\], how to build a new vector with 3 consecutive zeros interleaved between each value? (★★★) \n",
        "(**hint**: array\\[::4\\])"
      ]
    },
    {
      "cell_type": "code",
      "execution_count": null,
      "metadata": {
        "id": "LLZmzBLTfXAd",
        "colab": {
          "base_uri": "https://localhost:8080/"
        },
        "outputId": "99d734a3-3a3a-4dd8-a969-ff4096cbdb53"
      },
      "outputs": [
        {
          "output_type": "stream",
          "name": "stdout",
          "text": [
            "[1. 0. 0. 0. 2. 0. 0. 0. 3. 0. 0. 0. 4. 0. 0. 0. 5.]\n"
          ]
        }
      ],
      "source": [
        "Z = np.array([1,2,3,4,5])\n",
        "nz = 3\n",
        "Z0 = np.zeros(len(Z) + (len(Z)-1)*(nz))\n",
        "Z0[::nz+1] = Z\n",
        "print(Z0)"
      ]
    },
    {
      "cell_type": "markdown",
      "metadata": {
        "id": "_CXHsUAtfXAd"
      },
      "source": [
        "#### 71. Consider an array of dimension (5,5,3), how to mulitply it by an array with dimensions (5,5)? (★★★) \n",
        "(**hint**: array\\[:, :, None\\])"
      ]
    },
    {
      "cell_type": "code",
      "execution_count": null,
      "metadata": {
        "collapsed": true,
        "id": "etwSNp3zfXAe",
        "colab": {
          "base_uri": "https://localhost:8080/"
        },
        "outputId": "57cb7e3e-014e-4895-bd26-de9cfc570463"
      },
      "outputs": [
        {
          "output_type": "stream",
          "name": "stdout",
          "text": [
            "[[[2. 2. 2.]\n",
            "  [2. 2. 2.]\n",
            "  [2. 2. 2.]\n",
            "  [2. 2. 2.]\n",
            "  [2. 2. 2.]]\n",
            "\n",
            " [[2. 2. 2.]\n",
            "  [2. 2. 2.]\n",
            "  [2. 2. 2.]\n",
            "  [2. 2. 2.]\n",
            "  [2. 2. 2.]]\n",
            "\n",
            " [[2. 2. 2.]\n",
            "  [2. 2. 2.]\n",
            "  [2. 2. 2.]\n",
            "  [2. 2. 2.]\n",
            "  [2. 2. 2.]]\n",
            "\n",
            " [[2. 2. 2.]\n",
            "  [2. 2. 2.]\n",
            "  [2. 2. 2.]\n",
            "  [2. 2. 2.]\n",
            "  [2. 2. 2.]]\n",
            "\n",
            " [[2. 2. 2.]\n",
            "  [2. 2. 2.]\n",
            "  [2. 2. 2.]\n",
            "  [2. 2. 2.]\n",
            "  [2. 2. 2.]]]\n"
          ]
        }
      ],
      "source": [
        "A = np.ones((5,5,3))\n",
        "B = 2*np.ones((5,5))\n",
        "print(A * B[:,:,None])"
      ]
    },
    {
      "cell_type": "markdown",
      "metadata": {
        "id": "ZpyrGuvmfXAf"
      },
      "source": [
        "#### 72. How to swap two rows of an array? (★★★) \n",
        "(**hint**: array\\[\\[\\]\\] = array\\[\\[\\]\\])"
      ]
    },
    {
      "cell_type": "code",
      "execution_count": null,
      "metadata": {
        "id": "sQgFIIBofXAg",
        "colab": {
          "base_uri": "https://localhost:8080/"
        },
        "outputId": "4bdd32a2-7ce9-474d-b482-ce6b925bc1cf"
      },
      "outputs": [
        {
          "output_type": "stream",
          "name": "stdout",
          "text": [
            "[[ 5  6  7  8  9]\n",
            " [ 0  1  2  3  4]\n",
            " [10 11 12 13 14]\n",
            " [15 16 17 18 19]\n",
            " [20 21 22 23 24]]\n"
          ]
        }
      ],
      "source": [
        "A = np.arange(25).reshape(5,5)\n",
        "A[[0,1]] = A[[1,0]]\n",
        "print(A)"
      ]
    },
    {
      "cell_type": "markdown",
      "metadata": {
        "id": "tBttD2GufXAh"
      },
      "source": [
        "#### 73. Consider a set of 10 triplets describing 10 triangles (with shared vertices), find the set of unique line segments composing all the  triangles (★★★) \n",
        "(**hint**: repeat, np.roll, np.sort, view, np.unique)"
      ]
    },
    {
      "cell_type": "code",
      "execution_count": null,
      "metadata": {
        "id": "qR8PsOwJfXAh",
        "colab": {
          "base_uri": "https://localhost:8080/"
        },
        "outputId": "b1311fde-e2ca-4712-a8a9-ae5d92b595a2"
      },
      "outputs": [
        {
          "output_type": "stream",
          "name": "stdout",
          "text": [
            "[( 1,  6) ( 1, 30) ( 6, 11) ( 6, 25) ( 6, 30) ( 9, 32) ( 9, 41) (11, 25)\n",
            " (16, 26) (16, 93) (17, 17) (17, 95) (18, 66) (18, 95) (26, 93) (27, 58)\n",
            " (27, 72) (32, 41) (39, 40) (39, 75) (40, 75) (55, 61) (55, 79) (58, 72)\n",
            " (61, 79) (65, 73) (65, 75) (66, 95) (73, 75)]\n"
          ]
        }
      ],
      "source": [
        "faces = np.random.randint(0,100,(10,3))\n",
        "F = np.roll(faces.repeat(2,axis=1),-1,axis=1)\n",
        "F = F.reshape(len(F)*3,2)\n",
        "F = np.sort(F,axis=1)\n",
        "G = F.view( dtype=[('p0',F.dtype),('p1',F.dtype)] )\n",
        "G = np.unique(G)\n",
        "print(G)"
      ]
    },
    {
      "cell_type": "markdown",
      "metadata": {
        "id": "sN4MDaTbfXAi"
      },
      "source": [
        "#### 74. Given an array C that is a bincount, how to produce an array A such that np.bincount(A) == C? (★★★) \n",
        "(**hint**: np.repeat)"
      ]
    },
    {
      "cell_type": "code",
      "execution_count": null,
      "metadata": {
        "id": "tzmeHoA3fXAj",
        "colab": {
          "base_uri": "https://localhost:8080/"
        },
        "outputId": "dc012709-323c-4c12-d7e5-385df0305415"
      },
      "outputs": [
        {
          "output_type": "stream",
          "name": "stdout",
          "text": [
            "[1 1 2 3 4 4 6]\n"
          ]
        }
      ],
      "source": [
        "C = np.bincount([1,1,2,3,4,4,6])\n",
        "A = np.repeat(np.arange(len(C)), C)\n",
        "print(A)"
      ]
    },
    {
      "cell_type": "markdown",
      "metadata": {
        "id": "mOUzIqL4fXAj"
      },
      "source": [
        "#### 75. How to compute averages using a sliding window over an array? (★★★) \n",
        "(**hint**: np.cumsum)"
      ]
    },
    {
      "cell_type": "code",
      "execution_count": null,
      "metadata": {
        "id": "MYL63EdpfXAk",
        "colab": {
          "base_uri": "https://localhost:8080/"
        },
        "outputId": "fd66df8b-b18d-49c2-dca0-5895d618c843"
      },
      "outputs": [
        {
          "output_type": "stream",
          "name": "stdout",
          "text": [
            "[ 1.  2.  3.  4.  5.  6.  7.  8.  9. 10. 11. 12. 13. 14. 15. 16. 17. 18.]\n"
          ]
        }
      ],
      "source": [
        "def moving_average(a, n=3) :\n",
        "    ret = np.cumsum(a, dtype=float)\n",
        "    ret[n:] = ret[n:] - ret[:-n]\n",
        "    return ret[n - 1:] / n\n",
        "Z = np.arange(20)\n",
        "print(moving_average(Z, n=3))"
      ]
    },
    {
      "cell_type": "markdown",
      "metadata": {
        "id": "JG-hrJiRfXAl"
      },
      "source": [
        "#### 76. Consider a one-dimensional array Z, build a two-dimensional array whose first row is (Z\\[0\\],Z\\[1\\],Z\\[2\\]) and each subsequent row is  shifted by 1 (last row should be (Z\\[-3\\],Z\\[-2\\],Z\\[-1\\]) (★★★) \n",
        "(**hint**: from numpy.lib import stride_tricks)"
      ]
    },
    {
      "cell_type": "code",
      "execution_count": null,
      "metadata": {
        "id": "LwypBvuhfXAl",
        "colab": {
          "base_uri": "https://localhost:8080/"
        },
        "outputId": "82a796ec-a3af-41a4-f08d-4c138930faa9"
      },
      "outputs": [
        {
          "output_type": "stream",
          "name": "stdout",
          "text": [
            "[[0 1 2]\n",
            " [1 2 3]\n",
            " [2 3 4]\n",
            " [3 4 5]\n",
            " [4 5 6]\n",
            " [5 6 7]\n",
            " [6 7 8]\n",
            " [7 8 9]]\n"
          ]
        }
      ],
      "source": [
        "from numpy.lib import stride_tricks\n",
        "\n",
        "def rolling(a, window):\n",
        "    shape = (a.size - window + 1, window)\n",
        "    strides = (a.itemsize, a.itemsize)\n",
        "    return stride_tricks.as_strided(a, shape=shape, strides=strides)\n",
        "Z = rolling(np.arange(10), 3)\n",
        "print(Z)"
      ]
    },
    {
      "cell_type": "markdown",
      "metadata": {
        "id": "ErIXJhCvfXAm"
      },
      "source": [
        "#### 77. How to negate a boolean, or to change the sign of a float inplace? (★★★) \n",
        "(**hint**: np.logical_not, np.negative)"
      ]
    },
    {
      "cell_type": "code",
      "execution_count": null,
      "metadata": {
        "id": "XD_NJBOMfXAn",
        "colab": {
          "base_uri": "https://localhost:8080/"
        },
        "outputId": "2331a0db-b705-4570-e476-11dcc1b61ce3"
      },
      "outputs": [
        {
          "output_type": "execute_result",
          "data": {
            "text/plain": [
              "array([0, 0, 1, 0, 1, 1, 0, 1, 1, 0, 1, 0, 0, 1, 1, 0, 1, 1, 1, 0, 1, 0,\n",
              "       1, 1, 0, 0, 0, 0, 0, 1, 1, 1, 1, 0, 1, 1, 1, 1, 1, 1, 1, 0, 1, 1,\n",
              "       0, 0, 1, 1, 1, 0, 1, 0, 0, 1, 0, 0, 0, 0, 0, 0, 0, 1, 1, 0, 0, 0,\n",
              "       1, 0, 1, 0, 0, 1, 1, 1, 1, 1, 1, 1, 0, 1, 0, 0, 0, 0, 1, 0, 1, 0,\n",
              "       0, 1, 0, 1, 0, 1, 1, 1, 1, 1, 0, 0])"
            ]
          },
          "metadata": {},
          "execution_count": 110
        }
      ],
      "source": [
        "Z = np.random.randint(0,2,100)\n",
        "np.logical_not(Z, out=Z)\n"
      ]
    },
    {
      "cell_type": "code",
      "source": [
        "Z = np.random.uniform(-1.0,1.0,100)\n",
        "np.negative(Z, out=Z)"
      ],
      "metadata": {
        "colab": {
          "base_uri": "https://localhost:8080/"
        },
        "id": "4hGZIjPJ2oDO",
        "outputId": "b9c9a59b-2ce3-4645-bfbb-95fc87bab2b5"
      },
      "execution_count": null,
      "outputs": [
        {
          "output_type": "execute_result",
          "data": {
            "text/plain": [
              "array([-0.84795349, -0.75286615, -0.59403519, -0.48395656,  0.05326547,\n",
              "        0.09876352,  0.35768743,  0.04021556,  0.52544446, -0.13799715,\n",
              "        0.44332527,  0.12228011, -0.39215079,  0.62801451, -0.1043419 ,\n",
              "       -0.65763862, -0.93661986, -0.81076122, -0.3012666 , -0.73757469,\n",
              "        0.22569917, -0.15364928,  0.06379078, -0.94174753, -0.57391348,\n",
              "       -0.61535704, -0.27706333,  0.56259736,  0.86989632, -0.70461995,\n",
              "       -0.92923923, -0.10110662,  0.08098105, -0.61202707,  0.18873675,\n",
              "        0.07026995,  0.2922706 ,  0.23058498,  0.44711584,  0.18801465,\n",
              "        0.87822941,  0.55318054, -0.78336631,  0.94460165,  0.6690684 ,\n",
              "        0.86241384,  0.25340671,  0.19203624,  0.00878006,  0.42972817,\n",
              "       -0.16760402, -0.25368865, -0.43205048, -0.27439762,  0.22776572,\n",
              "        0.17237897,  0.18614448,  0.83572779,  0.16428715, -0.48192488,\n",
              "        0.37356936, -0.02169461, -0.09750284, -0.70557091,  0.28214171,\n",
              "        0.99060064, -0.58636058, -0.22380939,  0.69844677,  0.83094139,\n",
              "        0.82271757,  0.4707641 ,  0.81751235,  0.9508226 ,  0.33642347,\n",
              "       -0.55761168,  0.96368872, -0.63972233, -0.33573076,  0.64911543,\n",
              "       -0.65293318, -0.33251059, -0.25770015, -0.71589546, -0.58105564,\n",
              "       -0.13769806, -0.84830894, -0.16892237,  0.88378376, -0.62092161,\n",
              "        0.72411389,  0.71852453, -0.69187094,  0.28090831, -0.7134107 ,\n",
              "        0.7012921 , -0.80720129,  0.35124194, -0.33968386,  0.26702197])"
            ]
          },
          "metadata": {},
          "execution_count": 111
        }
      ]
    },
    {
      "cell_type": "markdown",
      "metadata": {
        "id": "Z3WuUyzJfXAn"
      },
      "source": [
        "#### 78. Consider 2 sets of points P0,P1 describing lines (2d) and a point p, how to compute distance from p to each line i  (P0\\[i\\],P1\\[i\\])? (★★★)"
      ]
    },
    {
      "cell_type": "code",
      "execution_count": null,
      "metadata": {
        "id": "4cqOsF3ifXAo",
        "colab": {
          "base_uri": "https://localhost:8080/"
        },
        "outputId": "2a101572-3f29-4ffa-ff9d-36a217454195"
      },
      "outputs": [
        {
          "output_type": "stream",
          "name": "stdout",
          "text": [
            "[ 1.00539753  5.29532651  9.04217561 10.82983274  6.76880673  1.29239488\n",
            "  5.05033103 10.38886546  9.50028891  8.40761006]\n"
          ]
        }
      ],
      "source": [
        "def distance(P0, P1, p):\n",
        "    T = P1 - P0\n",
        "    L = (T**2).sum(axis=1)\n",
        "    U = -((P0[:,0]-p[...,0])*T[:,0] + (P0[:,1]-p[...,1])*T[:,1]) / L\n",
        "    U = U.reshape(len(U),1)\n",
        "    D = P0 + U*T - p\n",
        "    return np.sqrt((D**2).sum(axis=1))\n",
        "\n",
        "P0 = np.random.uniform(-10,10,(10,2))\n",
        "P1 = np.random.uniform(-10,10,(10,2))\n",
        "p  = np.random.uniform(-10,10,( 1,2))\n",
        "print(distance(P0, P1, p))"
      ]
    },
    {
      "cell_type": "markdown",
      "metadata": {
        "id": "oPYkUd4efXAp"
      },
      "source": [
        "#### 79. Consider 2 sets of points P0,P1 describing lines (2d) and a set of points P, how to compute distance from each point j (P\\[j\\]) to each line i (P0\\[i\\],P1\\[i\\])? (★★★)"
      ]
    },
    {
      "cell_type": "code",
      "execution_count": null,
      "metadata": {
        "id": "TiYg5N5RfXAq",
        "colab": {
          "base_uri": "https://localhost:8080/"
        },
        "outputId": "6dab32bc-4964-43bf-80f3-e72cfac9d7e4"
      },
      "outputs": [
        {
          "output_type": "stream",
          "name": "stdout",
          "text": [
            "[[ 6.19908046 11.04113225  9.05097832  7.44544477  1.67563537  4.02293186\n",
            "  14.4227248  18.24286054  3.36402921 11.2301457 ]\n",
            " [ 9.9005793   4.32888336  1.38205453  7.34211737  2.0982679   5.83588444\n",
            "   5.86894883  2.55885385 12.64395119  2.73923358]\n",
            " [ 3.66004024  2.29004113  7.05298955  0.63503024  3.9251426   1.91632124\n",
            "  11.75691099  9.08079606  7.38430719  8.6122814 ]\n",
            " [ 3.68568072  7.99456617  5.21311392  4.18258661  4.30585984  7.45402214\n",
            "  10.56998765 15.36129201  1.79009127  7.3779717 ]\n",
            " [ 5.35180141 10.38617444  9.27552145  6.89421985  0.71121761  3.36950109\n",
            "  14.57137895 17.52046941  2.30150621 11.38430872]\n",
            " [ 0.48016017  3.35830344  0.53856261  0.61595242  6.60916197 11.13027656\n",
            "   5.79205746 10.86181619  1.40951392  2.60688329]\n",
            " [ 8.69181473  4.56047937  3.6965321   8.27529707  5.07873996 12.44069892\n",
            "   1.12074606  2.8091046   9.46105129  2.03349779]\n",
            " [ 3.09987228  3.56703952 10.34871536  0.97409665  7.48658496  1.75769475\n",
            "  14.9420337  10.12323519  7.88850778 11.80582787]\n",
            " [ 9.89296768  4.80596656  0.59088973  8.04943832  0.31329951  8.19142091\n",
            "   3.98869026  2.24211505 11.94388815  0.85202083]\n",
            " [ 6.61971908  3.99444538  8.47232613  8.45469754 12.59033627 19.077582\n",
            "   3.27215225  3.88261223  5.38174189  6.45467564]]\n"
          ]
        }
      ],
      "source": [
        "P0 = np.random.uniform(-10, 10, (10,2))\n",
        "P1 = np.random.uniform(-10,10,(10,2))\n",
        "p = np.random.uniform(-10, 10, (10,2))\n",
        "print(np.array([distance(P0,P1,p_i) for p_i in p]))"
      ]
    },
    {
      "cell_type": "markdown",
      "metadata": {
        "id": "cKSjKqUVfXAr"
      },
      "source": [
        "#### 80. Consider an arbitrary array, write a function that extract a subpart with a fixed shape and centered on a given element (pad with a `fill` value when necessary) (★★★) \n",
        "(**hint**: minimum, maximum)"
      ]
    },
    {
      "cell_type": "code",
      "execution_count": null,
      "metadata": {
        "id": "acsrPO-SfXAv"
      },
      "outputs": [],
      "source": [
        ""
      ]
    },
    {
      "cell_type": "markdown",
      "metadata": {
        "id": "NxeVRi7DfXAv"
      },
      "source": [
        "#### 81. Consider an array Z = \\[1,2,3,4,5,6,7,8,9,10,11,12,13,14\\], how to generate an array R = \\[\\[1,2,3,4\\], \\[2,3,4,5\\], \\[3,4,5,6\\], ..., \\[11,12,13,14\\]\\]? (★★★) \n",
        "(**hint**: stride\\_tricks.as\\_strided)"
      ]
    },
    {
      "cell_type": "code",
      "execution_count": null,
      "metadata": {
        "id": "VfMLo3HSfXAw",
        "colab": {
          "base_uri": "https://localhost:8080/"
        },
        "outputId": "7920fd8a-c573-4be1-fb5e-1422968d88db"
      },
      "outputs": [
        {
          "output_type": "stream",
          "name": "stdout",
          "text": [
            "[[ 1  2  3  4]\n",
            " [ 2  3  4  5]\n",
            " [ 3  4  5  6]\n",
            " [ 4  5  6  7]\n",
            " [ 5  6  7  8]\n",
            " [ 6  7  8  9]\n",
            " [ 7  8  9 10]\n",
            " [ 8  9 10 11]\n",
            " [ 9 10 11 12]\n",
            " [10 11 12 13]\n",
            " [11 12 13 14]]\n"
          ]
        }
      ],
      "source": [
        "Z = np.arange(1,15,dtype=np.uint32)\n",
        "R = stride_tricks.as_strided(Z,(11,4),(4,4))\n",
        "print(R)"
      ]
    },
    {
      "cell_type": "markdown",
      "metadata": {
        "id": "FKbunf_UfXAw"
      },
      "source": [
        "#### 82. Compute a matrix rank (★★★) \n",
        "(**hint**: np.linalg.svd) (suggestion: np.linalg.svd)"
      ]
    },
    {
      "cell_type": "code",
      "execution_count": null,
      "metadata": {
        "id": "MjFqIp1SfXAx"
      },
      "outputs": [],
      "source": [
        ""
      ]
    },
    {
      "cell_type": "markdown",
      "metadata": {
        "id": "ZEps5r0cfXAy"
      },
      "source": [
        "#### 83. How to find the most frequent value in an array? \n",
        "(**hint**: np.bincount, argmax)"
      ]
    },
    {
      "cell_type": "code",
      "execution_count": null,
      "metadata": {
        "id": "TLG1ykMNfXAz",
        "colab": {
          "base_uri": "https://localhost:8080/"
        },
        "outputId": "f09f316f-bf9a-4b8d-9bfb-6e01a3dd5fca"
      },
      "outputs": [
        {
          "output_type": "stream",
          "name": "stdout",
          "text": [
            "0\n"
          ]
        }
      ],
      "source": [
        "Z = np.random.randint(0,10,50)\n",
        "print(np.bincount(Z).argmax())"
      ]
    },
    {
      "cell_type": "markdown",
      "metadata": {
        "id": "HW0whxEAfXA0"
      },
      "source": [
        "#### 84. Extract all the contiguous 3x3 blocks from a random 10x10 matrix (★★★) \n",
        "(**hint**: stride\\_tricks.as\\_strided)"
      ]
    },
    {
      "cell_type": "code",
      "execution_count": null,
      "metadata": {
        "id": "jk1tWEzBfXA1"
      },
      "outputs": [],
      "source": [
        ""
      ]
    },
    {
      "cell_type": "markdown",
      "metadata": {
        "id": "czCWszdofXA1"
      },
      "source": [
        "#### 85. Create a 2D array subclass such that Z\\[i,j\\] == Z\\[j,i\\] (★★★) \n",
        "(**hint**: class method)"
      ]
    },
    {
      "cell_type": "code",
      "execution_count": null,
      "metadata": {
        "id": "8gHQsDIafXA2"
      },
      "outputs": [],
      "source": [
        ""
      ]
    },
    {
      "cell_type": "markdown",
      "metadata": {
        "id": "FQZ--Q4mfXA3"
      },
      "source": [
        "#### 86. Consider a set of p matrices wich shape (n,n) and a set of p vectors with shape (n,1). How to compute the sum of of the p matrix products at once? (result has shape (n,1)) (★★★) \n",
        "(**hint**: np.tensordot)"
      ]
    },
    {
      "cell_type": "code",
      "execution_count": null,
      "metadata": {
        "id": "87sj3tAOfXA4"
      },
      "outputs": [],
      "source": [
        ""
      ]
    },
    {
      "cell_type": "markdown",
      "metadata": {
        "id": "EOwPMZugfXA4"
      },
      "source": [
        "#### 87. Consider a 16x16 array, how to get the block-sum (block size is 4x4)? (★★★) \n",
        "(**hint**: np.add.reduceat)"
      ]
    },
    {
      "cell_type": "code",
      "execution_count": null,
      "metadata": {
        "id": "QxkghED_fXA5"
      },
      "outputs": [],
      "source": [
        ""
      ]
    },
    {
      "cell_type": "markdown",
      "metadata": {
        "id": "RTL632ZAfXA5"
      },
      "source": [
        "#### 88. How to implement the Game of Life using numpy arrays? (★★★)"
      ]
    },
    {
      "cell_type": "code",
      "execution_count": null,
      "metadata": {
        "id": "D23zp497fXA6"
      },
      "outputs": [],
      "source": [
        ""
      ]
    },
    {
      "cell_type": "markdown",
      "metadata": {
        "id": "MMnjVcLnfXA6"
      },
      "source": [
        "#### 89. How to get the n largest values of an array (★★★) \n",
        "(**hint**: np.argsort | np.argpartition)"
      ]
    },
    {
      "cell_type": "code",
      "execution_count": null,
      "metadata": {
        "id": "qfGowKiFfXA-",
        "colab": {
          "base_uri": "https://localhost:8080/"
        },
        "outputId": "ca7461e1-4646-4b3f-d912-ced1f914a197"
      },
      "outputs": [
        {
          "output_type": "stream",
          "name": "stdout",
          "text": [
            "[9998 9999 9997 9996 9995]\n"
          ]
        }
      ],
      "source": [
        "Z = np.arange(10000)\n",
        "np.random.shuffle(Z)\n",
        "n = 5\n",
        "print (Z[np.argpartition(-Z,n)[:n]])"
      ]
    },
    {
      "cell_type": "markdown",
      "metadata": {
        "id": "EGHAJTZcfXA_"
      },
      "source": [
        "#### 90. Given an arbitrary number of vectors, build the cartesian product (every combinations of every item) (★★★) \n",
        "(**hint**: np.indices)"
      ]
    },
    {
      "cell_type": "code",
      "execution_count": null,
      "metadata": {
        "scrolled": true,
        "id": "nb8dxZIdfXA_"
      },
      "outputs": [],
      "source": [
        ""
      ]
    },
    {
      "cell_type": "markdown",
      "metadata": {
        "id": "Ik_RVlryfXBA"
      },
      "source": [
        "#### 91. How to create a record array from a regular array? (★★★) \n",
        "(**hint**: np.core.records.fromarrays)"
      ]
    },
    {
      "cell_type": "code",
      "execution_count": null,
      "metadata": {
        "id": "0nTTlceefXBB"
      },
      "outputs": [],
      "source": [
        ""
      ]
    },
    {
      "cell_type": "markdown",
      "metadata": {
        "id": "McoQ-SP7fXBB"
      },
      "source": [
        "#### 92. Consider a large vector Z, compute Z to the power of 3 using 3 different methods (★★★) \n",
        "(**hint**: np.power, \\*, np.einsum)"
      ]
    },
    {
      "cell_type": "code",
      "execution_count": null,
      "metadata": {
        "id": "959KF2iLfXBB"
      },
      "outputs": [],
      "source": [
        ""
      ]
    },
    {
      "cell_type": "markdown",
      "metadata": {
        "id": "5yUoq6SjfXBC"
      },
      "source": [
        "#### 93. Consider two arrays A and B of shape (8,3) and (2,2). How to find rows of A that contain elements of each row of B regardless of the order of the elements in B? (★★★) \n",
        "(**hint**: np.where)"
      ]
    },
    {
      "cell_type": "code",
      "execution_count": null,
      "metadata": {
        "id": "yeK9TWXmfXBC",
        "colab": {
          "base_uri": "https://localhost:8080/"
        },
        "outputId": "c3b88c29-5e97-488f-a571-99cfa4490ed4"
      },
      "outputs": [
        {
          "output_type": "stream",
          "name": "stdout",
          "text": [
            "[1 2 3 6 7]\n"
          ]
        }
      ],
      "source": [
        "A = np.random.randint(0,5,(8,3))\n",
        "B = np.random.randint(0,5,(2,2))\n",
        "C = (A[..., np.newaxis, np.newaxis] == B)\n",
        "rows = np.where(C.any((3,1)).all(1))[0]\n",
        "print(rows)"
      ]
    },
    {
      "cell_type": "markdown",
      "metadata": {
        "id": "Ms_pTRbHfXBD"
      },
      "source": [
        "#### 94. Considering a 10x3 matrix, extract rows with unequal values (e.g. \\[2,2,3\\]) (★★★)"
      ]
    },
    {
      "cell_type": "code",
      "execution_count": null,
      "metadata": {
        "id": "AZ5LP_ksfXBD"
      },
      "outputs": [],
      "source": [
        ""
      ]
    },
    {
      "cell_type": "markdown",
      "metadata": {
        "id": "gPtoFKXcfXBD"
      },
      "source": [
        "#### 95. Convert a vector of ints into a matrix binary representation (★★★) \n",
        "(**hint**: np.unpackbits)"
      ]
    },
    {
      "cell_type": "code",
      "execution_count": null,
      "metadata": {
        "id": "SVfzuU3AfXBE"
      },
      "outputs": [],
      "source": [
        ""
      ]
    },
    {
      "cell_type": "markdown",
      "metadata": {
        "id": "GkuCoTgcfXBE"
      },
      "source": [
        "#### 96. Given a two dimensional array, how to extract unique rows? (★★★) \n",
        "(**hint**: np.ascontiguousarray)"
      ]
    },
    {
      "cell_type": "code",
      "execution_count": null,
      "metadata": {
        "id": "-FTxxlDNfXBE"
      },
      "outputs": [],
      "source": [
        ""
      ]
    },
    {
      "cell_type": "markdown",
      "metadata": {
        "id": "5exebKukfXBE"
      },
      "source": [
        "#### 97. Considering 2 vectors A & B, write the einsum equivalent of inner, outer, sum, and mul function (★★★) \n",
        "(**hint**: np.einsum)"
      ]
    },
    {
      "cell_type": "code",
      "execution_count": null,
      "metadata": {
        "id": "3oSmXKOkfXBE"
      },
      "outputs": [],
      "source": [
        ""
      ]
    },
    {
      "cell_type": "markdown",
      "metadata": {
        "id": "ysILRPd7fXBE"
      },
      "source": [
        "#### 98. Considering a path described by two vectors (X,Y), how to sample it using equidistant samples (★★★)? \n",
        "(**hint**: np.cumsum, np.interp)"
      ]
    },
    {
      "cell_type": "code",
      "execution_count": null,
      "metadata": {
        "collapsed": true,
        "id": "YzCm2Fq4fXBF"
      },
      "outputs": [],
      "source": [
        ""
      ]
    },
    {
      "cell_type": "markdown",
      "metadata": {
        "id": "4MrfzYQzfXBF"
      },
      "source": [
        "#### 99. Given an integer n and a 2D array X, select from X the rows which can be interpreted as draws from a multinomial distribution with n degrees, i.e., the rows which only contain integers and which sum to n. (★★★) \n",
        "(**hint**: np.logical\\_and.reduce, np.mod)"
      ]
    },
    {
      "cell_type": "code",
      "execution_count": null,
      "metadata": {
        "id": "ba-MiyjBfXBF"
      },
      "outputs": [],
      "source": [
        ""
      ]
    },
    {
      "cell_type": "markdown",
      "metadata": {
        "id": "dgRlwHvefXBF"
      },
      "source": [
        "#### 100. Compute bootstrapped 95% confidence intervals for the mean of a 1D array X (i.e., resample the elements of an array with replacement N times, compute the mean of each sample, and then compute percentiles over the means). (★★★) \n",
        "(**hint**: np.percentile)"
      ]
    },
    {
      "cell_type": "code",
      "execution_count": null,
      "metadata": {
        "id": "Jbm5QhiGfXBF"
      },
      "outputs": [],
      "source": [
        ""
      ]
    }
  ],
  "metadata": {
    "kernelspec": {
      "display_name": "Python 3",
      "language": "python",
      "name": "python3"
    },
    "language_info": {
      "codemirror_mode": {
        "name": "ipython",
        "version": 3
      },
      "file_extension": ".py",
      "mimetype": "text/x-python",
      "name": "python",
      "nbconvert_exporter": "python",
      "pygments_lexer": "ipython3",
      "version": "3.8.3"
    },
    "colab": {
      "name": "Numpy_tasks_Test_ Anwers.ipynb",
      "provenance": [],
      "collapsed_sections": [
        "cKSjKqUVfXAr",
        "FKbunf_UfXAw",
        "HW0whxEAfXA0",
        "czCWszdofXA1",
        "FQZ--Q4mfXA3",
        "EOwPMZugfXA4",
        "RTL632ZAfXA5",
        "EGHAJTZcfXA_",
        "Ik_RVlryfXBA",
        "McoQ-SP7fXBB",
        "Ms_pTRbHfXBD",
        "gPtoFKXcfXBD",
        "GkuCoTgcfXBE",
        "5exebKukfXBE",
        "ysILRPd7fXBE",
        "4MrfzYQzfXBF",
        "dgRlwHvefXBF"
      ]
    }
  },
  "nbformat": 4,
  "nbformat_minor": 0
}